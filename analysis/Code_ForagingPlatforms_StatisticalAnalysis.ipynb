{
 "cells": [
  {
   "cell_type": "markdown",
   "id": "14d0b88b",
   "metadata": {},
   "source": [
    "# R Script for: Continuous foraging behavior shapes patch-leaving decisions in pigeons: A 3D tracking study\n",
    "\n",
    "Guillermo Hidalgo Gadea"
   ]
  },
  {
   "cell_type": "markdown",
   "id": "86d293c7",
   "metadata": {},
   "source": [
    "Optimal foraging behavior is a key component of successful adaptations to natural environments. Understanding how animals decide to stay near food or to leave it for another food patch gives us insights into the underlying cognitive mechanisms that govern adaptive behaviors. 3D pose tracking was used to determine how pigeons exploit a 4 square meter arena with two separate platforms (i.e. food patches) whose absolute and relative elevations were manipulated. Detailed kinematic features of foraging and traveling behaviors were quantified using automated video tracking, without a need for manual coding. Our computational approach captured continuous, high-dimensional movement patterns and enabled precise quantification of travel costs between patches. Combined with mixed-effects survival analysis, our detailed behavioral tracking provided unprecedented insight into the moment-by-moment dynamics of patch-leaving decisions of pigeons. As expected from behavior optimization models, our results showed a preference to visit a ground food platform first, and longer latencies to leave an elevated platform. Foraging activity significantly decreased throughout a session, with shorter visits, less pecks per visit, and a decrease in inter-peck variability. However, a mixed-effects Cox regression modeled pigeons' patch-leaving probability, demonstrating that current and cumulative foraging parameters between patches significantly enhanced the model's predictive power beyond patch accessibility (i.e., beyond travel costs). This suggests that pigeons integrate both current environmental cues and their individual foraging history when making patch-leaving decisions. Our findings are discussed in relation to the marginal value theorem and optimal foraging theory.\n",
    "\n",
    "`updated 22.08.2025`"
   ]
  },
  {
   "cell_type": "markdown",
   "id": "d735e0a1",
   "metadata": {},
   "source": [
    "# 2) Statistical Analysis"
   ]
  },
  {
   "cell_type": "code",
   "execution_count": null,
   "id": "78396e44",
   "metadata": {
    "vscode": {
     "languageId": "r"
    }
   },
   "outputs": [],
   "source": [
    "# for data manipulation\n",
    "library(dplyr)\n",
    "library(tidyr)\n",
    "# libraries for plotting\n",
    "library(ggplot2)\n",
    "library(gridExtra)\n",
    "library(ggpattern)\n",
    "library(ggfortify)\n",
    "library(scales)\n",
    "library(ggsignif)\n",
    "# for mixed effects regression\n",
    "library(lme4) # nlme\n",
    "library(emmeans)\n",
    "library(lmerTest)\n",
    "library(car)\n",
    "# for survival analysis\n",
    "library(survminer)\n",
    "library(survival) \n",
    "library(coxme) #coxph"
   ]
  },
  {
   "cell_type": "markdown",
   "id": "85e085dc",
   "metadata": {},
   "source": [
    "## Load Dataset"
   ]
  },
  {
   "cell_type": "code",
   "execution_count": null,
   "id": "96260502",
   "metadata": {
    "vscode": {
     "languageId": "r"
    }
   },
   "outputs": [],
   "source": [
    "# load data\n",
    "data_path <- \"K:/ForagingPlatformsArena_local/Analysis/AggregateVisits.csv\"\n",
    "data <- read.csv(data_path, header = TRUE)\n",
    "data$PID = as.factor(data$PID)\n",
    "cat(\"Number of visits recorded by Pigeon and condition:\")\n",
    "table(data$PID, data$condition)"
   ]
  },
  {
   "cell_type": "markdown",
   "id": "c99656b7",
   "metadata": {},
   "source": [
    "## Refactor Variables"
   ]
  },
  {
   "cell_type": "code",
   "execution_count": null,
   "id": "6cbd9c95-8105-4e56-a827-4852613175d2",
   "metadata": {
    "vscode": {
     "languageId": "r"
    }
   },
   "outputs": [],
   "source": [
    "# reset session_number to start at 1 for each individual PID (exclude habituation count)\n",
    "min_session_number = aggregate(session ~ PID, data = data, FUN = min)\n",
    "data = merge(data, min_session_number, by = \"PID\", suffixes = c(\"\", \"_min_task\"))\n",
    "data$session_number_ontask = data$session + 1 - data$session_min_task\n",
    "data$session_number_ontask = as.factor(data$session_number_ontask)\n",
    "\n",
    "# reset the session number for each condition\n",
    "data$session_number_oncond = as.integer(data$session_number_ontask)\n",
    "data$session_number_oncond[data$session_number_oncond == 5] = 1\n",
    "data$session_number_oncond[data$session_number_oncond == 6] = 2\n",
    "data$session_number_oncond[data$session_number_oncond == 7] = 3\n",
    "data$session_number_oncond[data$session_number_oncond == 8] = 4\n",
    "data$session_number_oncond[data$session_number_oncond == 9] = 1\n",
    "data$session_number_oncond[data$session_number_oncond == 10] = 2\n",
    "data$session_number_oncond[data$session_number_oncond == 11] = 3\n",
    "data$session_number_oncond[data$session_number_oncond == 12] = 4\n",
    "\n",
    "# make condition a factor and set '0-0' as reference\n",
    "data$condition = gsub(\"75-0\", \"0-75\", data$condition) # TODO check if this is needed\n",
    "data$condition = as.factor(data$condition)\n",
    "data$condition = relevel(data$condition, ref = \"0-0\")\n",
    "\n",
    "# make location a factor and set 'platform A' as reference\n",
    "data$location = as.factor(data$location)\n",
    "data$location = relevel(data$location, ref = \"platform A\")\n",
    "\n",
    "# make elevation a factor and set '0' as reference\n",
    "data$elevation = as.factor(data$elevation)\n",
    "data$elevation = relevel(data$elevation, ref = \"0\")\n",
    "\n",
    "# create interaction term between condition and elevation\n",
    "data$cond = interaction(data$condition, data$elevation)\n",
    "data$cond = gsub(\"0-0.0\", \"0-0 low\", data$cond)\n",
    "data$cond = gsub(\"0-75.0\", \"0-75 low\", data$cond)\n",
    "data$cond = gsub(\"0-75.750\", \"0-75 high\", data$cond)\n",
    "data$cond = gsub(\"75-75.750\", \"75-75 high\", data$cond)\n",
    "data$cond = as.factor(data$cond)\n",
    "data$cond = factor(data$cond, levels = c(\"0-0 low\", \"0-75 low\", \"0-75 high\", \"75-75 high\"))\n",
    "data$cond = relevel(data$cond, ref = \"0-0 low\")\n",
    "\n",
    "# make sex a factor and set female as reference\n",
    "data$sex = as.factor(data$sex)\n",
    "data$sex = relevel(data$sex, ref = \"female\")\n",
    "\n",
    "# reformat covariates\n",
    "data$age = as.numeric(data$age)\n",
    "data$normal_weight = as.numeric(data$normal_weight)\n",
    "data$weight = as.numeric(data$weight)\n",
    "data$deprivation = 1-data$weight/data$normal_weight\n",
    "data$performance = as.numeric(data$food_consumed)/60\n",
    "\n",
    "# check that pigeons forage from both platforms\n",
    "data$visited =  ifelse(data$depleted_A > 0, 1, 0) + \n",
    "                ifelse(data$depleted_B > 0, 1, 0)\n"
   ]
  },
  {
   "cell_type": "code",
   "execution_count": null,
   "id": "2d392b4a",
   "metadata": {
    "vscode": {
     "languageId": "r"
    }
   },
   "outputs": [],
   "source": [
    "# Reset coding for depleted platforms high and low\n",
    "# Note that depleted_A + depleted_B != food consumed, when food items were found on the ground\n",
    "\n",
    "data <- data %>%\n",
    "  mutate(\n",
    "    # Create interaction variable\n",
    "    int = gsub(\" \", \".\", interaction(elevation, location, condition)),\n",
    "    \n",
    "    # Initialize depleted_low and depleted_high\n",
    "    depleted_low = ifelse(condition == \"0-0\", depleted_A + depleted_B, 0),\n",
    "    depleted_high = ifelse(condition == \"75-75\", depleted_A + depleted_B, 0),\n",
    "    \n",
    "    # Handle mixed condition \"0-75\"\n",
    "    depleted_low = ifelse(\n",
    "      condition == \"0-75\" & location == \"platform A\" & elevation == \"0\", depleted_A,\n",
    "      ifelse(condition == \"0-75\" & location == \"platform A\" & elevation == \"750\", depleted_B,\n",
    "      ifelse(condition == \"0-75\" & location == \"platform B\" & elevation == \"0\", depleted_B,\n",
    "      ifelse(condition == \"0-75\" & location == \"platform B\" & elevation == \"750\", depleted_A,\n",
    "      depleted_low)))),\n",
    "    \n",
    "    depleted_high = ifelse(\n",
    "      condition == \"0-75\" & location == \"platform A\" & elevation == \"0\", depleted_B,\n",
    "      ifelse(condition == \"0-75\" & location == \"platform A\" & elevation == \"750\", depleted_A,\n",
    "      ifelse(condition == \"0-75\" & location == \"platform B\" & elevation == \"0\", depleted_A,\n",
    "      ifelse(condition == \"0-75\" & location == \"platform B\" & elevation == \"750\", depleted_B,\n",
    "      depleted_high))))\n",
    "  )"
   ]
  },
  {
   "cell_type": "markdown",
   "id": "122d4ce5",
   "metadata": {},
   "source": [
    "## Correct dataset agains self-transitions"
   ]
  },
  {
   "cell_type": "markdown",
   "id": "1139c22e",
   "metadata": {},
   "source": [
    "Pigeons often visit a platform, leave it for a short period of time, and return to the same platform to continue foraging on the same platform. We handle these as self-transitions, opposed to transitions between alternative platforms. Importantly, once a pigeon leaves a platform towards the alternative, we consider the aggregate activity on that platform throughout all smaller self-transitions.\n",
    "\n",
    "Below, we look at \"real\" visits/transitions as the `cumsum(transition_self == 0)`, group all df rows by the \"real\" visit and aggregate foraging parameters either as a sum throughout self-transitions, or as the weighted average of e.g. peckrate and variability. Note that these parameters refer to the entire \"corrected visit\" by the end, when leaving the platform. While other parameters such as travel distance or visit latency refer to the time and distance required to reach the visit prior to the actual visit start.\n",
    "\n",
    "Censored data of `status == 0` are synthetic, shortened duplicates of real visits, representing cases of active foraging without leaving the platform, e.g. unfinished visits. These help balance the dataset after biased sampling towards finished visits. Censored visits need to be corrected, too. \n",
    "\n",
    "`updated 02.04.2025`"
   ]
  },
  {
   "cell_type": "code",
   "execution_count": null,
   "id": "851ec2d5",
   "metadata": {
    "vscode": {
     "languageId": "r"
    }
   },
   "outputs": [],
   "source": [
    "# find matching real-synthetic visit pairs by total_latency\n",
    "data <- data %>%\n",
    "  group_by(PID, session_number_oncond, condition) %>%\n",
    "  # flag synthetic visits matching real visits\n",
    "  mutate(uncensored_flag = as.integer(status == 1 & (duplicated(total_latency) | duplicated(total_latency, fromLast = TRUE)))) %>%\n",
    "  # flag all self-transitions corresponging to synthetic visits\n",
    "  ungroup()"
   ]
  },
  {
   "cell_type": "code",
   "execution_count": null,
   "id": "3a0ce7e6",
   "metadata": {
    "vscode": {
     "languageId": "r"
    }
   },
   "outputs": [],
   "source": [
    "# first pass with real visits\n",
    "real_visits <- data %>%\n",
    "  # remove synthetic visits in conflicting duplicates\n",
    "  filter(status == 1) %>%\n",
    "  arrange(PID, session_number_oncond, condition, visit_order) %>%\n",
    "  mutate(full_visits = cumsum(transition_self == 0)) %>%\n",
    "  group_by(PID, session_number_oncond, condition, full_visits) %>%\n",
    "  mutate(\n",
    "    # aggregate parameters over \"real visits\"\n",
    "    total_visit_length = round(sum(visit_length, na.rm = TRUE), 2),\n",
    "    total_head_disp = round(sum(head_disp, na.rm = TRUE), 2),\n",
    "    total_peck_count = round(sum(peck_count, na.rm = TRUE), 2),\n",
    "    num_self_transitions = round(sum(transition_self, na.rm = TRUE), 2),\n",
    "    self_travel_dist = round(sum(travel_dist[transition_self != 0], na.rm = TRUE), 2),\n",
    "    # calculate weighted averages for all (self-)visits\n",
    "    total_peck_rate = round(sum(peck_rate * visit_length, na.rm = TRUE) / sum(visit_length, na.rm = TRUE), 2),\n",
    "    total_IPI_rmssd = round(sum(IPI_rmssd * visit_length, na.rm = TRUE) / sum(visit_length, na.rm = TRUE), 2),\n",
    "    total_IPD_rmssd = round(sum(IPD_rmssd * visit_length, na.rm = TRUE) / sum(visit_length, na.rm = TRUE), 2),\n",
    "    total_IPI_entropy = round(sum(IPI_entropy * visit_length, na.rm = TRUE) / sum(visit_length, na.rm = TRUE), 2),\n",
    "    total_IPD_entropy = round(sum(IPD_entropy * visit_length, na.rm = TRUE) / sum(visit_length, na.rm = TRUE), 2),\n",
    "    # calculate relative cumulative parameter as highest cum value\n",
    "    overpeck_ratio = (max(cum_peck_count, na.rm = TRUE) / (max(cum_peck_count, na.rm = TRUE) + max(alt_cum_peck_count, na.rm = TRUE) + 0.1)) - 0.5,\n",
    "    ) %>%\n",
    "  ungroup()\n",
    "\n",
    "# second pass with synthetic visits\n",
    "synthetic_visits <- data %>%\n",
    "  # remove real visits in conflicting duplicates \n",
    "  filter(uncensored_flag != 1) %>%\n",
    "  arrange(PID, session_number_oncond, condition, visit_order) %>%\n",
    "  mutate(full_visits = cumsum(transition_self == 0)) %>%\n",
    "  group_by(PID, session_number_oncond, condition, full_visits) %>%\n",
    "  mutate(\n",
    "    # aggregate parameters over \"real visits\"\n",
    "    total_visit_length = round(sum(visit_length, na.rm = TRUE), 2),\n",
    "    total_head_disp = round(sum(head_disp, na.rm = TRUE), 2),\n",
    "    total_peck_count = round(sum(peck_count, na.rm = TRUE), 2),\n",
    "    num_self_transitions = round(sum(transition_self, na.rm = TRUE), 2),\n",
    "    self_travel_dist = round(sum(travel_dist[transition_self != 0], na.rm = TRUE), 2),\n",
    "    # calculate weighted averages for all (self-)visits\n",
    "    total_peck_rate = round(sum(peck_rate * visit_length, na.rm = TRUE) / sum(visit_length, na.rm = TRUE), 2),\n",
    "    total_IPI_rmssd = round(sum(IPI_rmssd * visit_length, na.rm = TRUE) / sum(visit_length, na.rm = TRUE), 2),\n",
    "    total_IPD_rmssd = round(sum(IPD_rmssd * visit_length, na.rm = TRUE) / sum(visit_length, na.rm = TRUE), 2),\n",
    "    total_IPI_entropy = round(sum(IPI_entropy * visit_length, na.rm = TRUE) / sum(visit_length, na.rm = TRUE), 2),\n",
    "    total_IPD_entropy = round(sum(IPD_entropy * visit_length, na.rm = TRUE) / sum(visit_length, na.rm = TRUE), 2),\n",
    "    # calculate relative cumulative parameter as highest cum value\n",
    "    overpeck_ratio = (max(cum_peck_count, na.rm = TRUE) / (max(cum_peck_count, na.rm = TRUE) + max(alt_cum_peck_count, na.rm = TRUE) + 0.1)) - 0.5,\n",
    "    ) %>%\n",
    "  ungroup()\n",
    "# remove real visits already corrected above\n",
    "synthetic_visits <- subset(synthetic_visits, status == 0)\n",
    "\n",
    "# Combine the results\n",
    "corrected_data <- bind_rows(real_visits, synthetic_visits) %>%\n",
    "arrange(PID, session_number_oncond, condition, visit_order)"
   ]
  },
  {
   "cell_type": "code",
   "execution_count": null,
   "id": "261f1d74",
   "metadata": {
    "vscode": {
     "languageId": "r"
    }
   },
   "outputs": [],
   "source": [
    "# total number of recorded visits, including censored data\n",
    "cat(\"Total number of visits by Pigeon and condition, including\", \n",
    "    round(prop.table(table(subset(corrected_data, (transition_self == 0))$status))[\"0\"]*100,2), \n",
    "    \"% censored visits:\\n\")\n",
    "print(table(subset(corrected_data, transition_self == 0)$PID, subset(corrected_data, transition_self == 0)$session_number_ontask))"
   ]
  },
  {
   "cell_type": "markdown",
   "id": "0143f090",
   "metadata": {},
   "source": [
    "## Filter Dataset"
   ]
  },
  {
   "cell_type": "markdown",
   "id": "23767391",
   "metadata": {},
   "source": [
    "The dataset is first filtered to exclude pigeons that did not consume the food items used during the experiment. \n",
    "\n",
    "Second, we filter sessions in which any platform is not visited. Note that given the task design, failure to visit the elevated platform implied a drop in foraging performance to 50% in the 0-75 condition and to 0% in the 75-75 condition, and platform transitions could not be calculated. These individual sessions were removed from further analysis, excluding a total of 18 out of 100 test sessions due to non-visited platforms.\n",
    "\n",
    "Third, we filter visits without foraging activity to exclude non-foraging use of the platforms, as well as visits shorter than 2 seconds to exclude passing-throughs.\n",
    "\n",
    "Lastly, we trimm the highest 1% of visit lengths, latencies and peck counts to exclude outliers in heavy tailed distributions.\n",
    "\n",
    "\n",
    "`updated 02.04.2025`"
   ]
  },
  {
   "cell_type": "markdown",
   "id": "26fb7e4e-ba9a-481c-8596-bfac991c0326",
   "metadata": {},
   "source": [
    "### Exclude by Task Engagement"
   ]
  },
  {
   "cell_type": "markdown",
   "id": "c8ae2b77",
   "metadata": {},
   "source": [
    "Pigeons that do not interact with the foraging setup above a performance criterium are excluded from the sample."
   ]
  },
  {
   "cell_type": "code",
   "execution_count": null,
   "id": "5bcaf3f6",
   "metadata": {
    "vscode": {
     "languageId": "r"
    }
   },
   "outputs": [],
   "source": [
    "# subset data per session\n",
    "data_unique = data[!duplicated(interaction(data$session_number_ontask, data$PID)), ]\n",
    "color_mapping <- setNames(rainbow(length(unique(data_unique$PID))), unique(data_unique$PID))\n",
    "shape_mapping <- setNames(rep(1:6, length.out = length(unique(data_unique$PID))), unique(data_unique$PID))\n",
    "\n",
    "# Plot performance data for individual pigeons over session aggregates\n",
    "ggplot(data_unique, aes(x = session_number_ontask, y = food_consumed)) +\n",
    "  geom_boxplot(aes(fill = condition), alpha = .2, show.legend=FALSE) + \n",
    "  geom_point(aes(color = PID, shape = PID), size = 5) + \n",
    "  geom_line(aes(group = PID, color = PID), linewidth = 1.5) + \n",
    "  geom_hline(yintercept = 48, color = 'red')+ geom_hline(yintercept = 30, color = 'red')+\n",
    "  coord_cartesian(ylim = c(0, 60)) + \n",
    "  scale_color_manual(values = color_mapping) +\n",
    "  scale_shape_manual(values = shape_mapping) +\n",
    "  labs(\n",
    "    x = \"Session Number\",\n",
    "    y = \"Food items consumed\",\n",
    "    color = \"Pigeon\",\n",
    "  ) +\n",
    "  theme_classic() + theme(text = element_text(size = 20))\n",
    "#ggsave(\"K:/ForagingPlatformsArena_local/food_consumed_raw.png\", width = 21, height = 10, dpi = 600)"
   ]
  },
  {
   "cell_type": "code",
   "execution_count": null,
   "id": "85cc2ce5-32b1-4a03-ac62-ebca4f8b415f",
   "metadata": {
    "vscode": {
     "languageId": "r"
    }
   },
   "outputs": [],
   "source": [
    "# supress ggplot warnings and messages\n",
    "suppressMessages(suppressWarnings(\n",
    "# Plot individual performance data and food deprivation levels over time\n",
    "for (id in unique(data_unique$PID)) {\n",
    "  data_subset <- data_unique[data_unique$PID == id, ]\n",
    "  p <- ggplot(data_subset, aes(x = as.integer(session_number_ontask))) +\n",
    "    geom_rect(aes(xmin = 4.5, xmax = 8.5, ymin = -Inf, ymax = Inf), fill = \"grey\", alpha = 0.1) +\n",
    "    geom_point(aes(y = performance, color = \"Performance\"), size = 5) + \n",
    "    geom_line(aes(y = performance, color = \"Performance\", group = 1), linewidth = 1.5) +  # Explicit group\n",
    "    geom_hline(aes(yintercept = 0.25), color = 'red', linetype = \"dashed\", show.legend = FALSE) +\n",
    "    geom_point(aes(y = deprivation, color = \"Deprivation\"), size = 5) + \n",
    "    geom_line(aes(y = deprivation, color = \"Deprivation\", group = 1), linewidth = 1.5) +  # Explicit group\n",
    "    geom_hline(aes(yintercept = 0.50), color = 'black', linetype = \"dashed\", show.legend = FALSE) +\n",
    "    labs(\n",
    "      x = \"Session Number\",\n",
    "      y = \"Percent\",\n",
    "      color = \"Variable\",\n",
    "      title = paste(\"Pigeon ID:\", id)\n",
    "    ) + \n",
    "    scale_x_continuous(limits = c(1, 12), breaks = 1:12) +\n",
    "    scale_y_continuous(limits = c(0, 1), breaks = seq(0, 1, 0.1)) +\n",
    "    scale_color_manual(values = c(\"Performance\" = \"black\", \"Deprivation\" = \"red\")) +\n",
    "    theme_classic() +\n",
    "    theme(\n",
    "      text = element_text(size = 20),\n",
    "      plot.title = element_text(hjust = 0.5)  # Center the title\n",
    "    )\n",
    "  print(p)\n",
    "  # ggsave(paste0(\"K:/ForagingPlatformsArena_local/\", id, \"_performance_deprivation.png\"), plot = p, width = 10, height = 3, dpi = 600)\n",
    "\n",
    "}))\n",
    "\n"
   ]
  },
  {
   "cell_type": "code",
   "execution_count": null,
   "id": "06091b45",
   "metadata": {
    "vscode": {
     "languageId": "r"
    }
   },
   "outputs": [],
   "source": [
    "# flag Pigeons that do not engage with the task, see Figures above\n",
    "corrected_data$excluded1 = ifelse(corrected_data$PID %in% c(\"P589\", \"P791\", \"P122\"), 1, 0)\n",
    "cat(\"Flagged a total of\", table(corrected_data$excluded1)[\"1\"], \"visits from the sample.\\n\")\n",
    "cat(\"Out of N = 12 pigeons, 3 did not show enough interest in the foraging platforms.\")\n",
    "print(table(corrected_data$PID, corrected_data$excluded1))"
   ]
  },
  {
   "cell_type": "markdown",
   "id": "5c956d60",
   "metadata": {},
   "source": [
    "### Exclude by Platform Visits"
   ]
  },
  {
   "cell_type": "code",
   "execution_count": null,
   "id": "c4aa67f2",
   "metadata": {
    "vscode": {
     "languageId": "r"
    }
   },
   "outputs": [],
   "source": [
    "# mark sessions inwhich pigeons do not visit both platforms\n",
    "corrected_data$excluded2 = ifelse(corrected_data$visited < 2, 1, 0) \n",
    "\n",
    "# from the remaining 9 pigeons, 3 never visited the elevated platform in 0-75 and 2 never visited the elevated platform in 75-75\n",
    "cat(\"Flagged a total of\", table(corrected_data$excluded2)[\"1\"], \"visits from the sample, distrubuted as follows:\\n\")\n",
    "print(table(corrected_data$PID, corrected_data$excluded2))"
   ]
  },
  {
   "cell_type": "markdown",
   "id": "647455f2",
   "metadata": {},
   "source": [
    "### Exclude by Visit Requirements"
   ]
  },
  {
   "cell_type": "markdown",
   "id": "a6d8e9e7",
   "metadata": {},
   "source": [
    "Visits with `peck_count < 1` are considered non-foraging visits, and visit lengths of `visit_length < 2sec` are considered passing-through and excluded from the dataset."
   ]
  },
  {
   "cell_type": "code",
   "execution_count": null,
   "id": "8e8bb66a",
   "metadata": {
    "vscode": {
     "languageId": "r"
    }
   },
   "outputs": [],
   "source": [
    "# subset data by visit definition of >2sec and >1 pecks\n",
    "corrected_data$excluded3 = ifelse((corrected_data$total_visit_length < 2 | corrected_data$total_peck_count < 1), 1, 0)\n",
    "cat(\"Flagged a total of\", table(corrected_data$excluded3)[\"1\"], \"visits from the sample.\")\n",
    "print(table(corrected_data$PID, corrected_data$excluded3))\n"
   ]
  },
  {
   "cell_type": "markdown",
   "id": "84205423",
   "metadata": {},
   "source": [
    "### Excluded by Trimmed Outliers"
   ]
  },
  {
   "cell_type": "markdown",
   "id": "905798f3",
   "metadata": {},
   "source": [
    "Outlier correction by trimming, note that outlier correction is applied to the already filtered dataset."
   ]
  },
  {
   "cell_type": "code",
   "execution_count": null,
   "id": "b9933aff",
   "metadata": {
    "vscode": {
     "languageId": "r"
    }
   },
   "outputs": [],
   "source": [
    "# apply preious exclusion criteria to calculate outliers\n",
    "data_trimming <- subset(corrected_data, transition_self == 0 & status == 1 & excluded1 == 0 & excluded2 == 0 & excluded3 == 0)\n",
    "\n",
    "# calculate 1% trimm of the data for robust estimation\n",
    "higher_peckcount = quantile(data_trimming$total_peck_count, probs = 0.99)\n",
    "higher_visit_length = quantile(data_trimming$total_visit_length, probs = 0.99)\n",
    "higher_latency = quantile(data_trimming$visit_latency, probs = 0.99)\n",
    "\n",
    "# create mask for trimmed outliers\n",
    "corrected_data$excluded4 = ifelse(corrected_data$total_peck_count >= higher_peckcount, 1, 0)\n",
    "corrected_data$excluded4[corrected_data$total_visit_length >= higher_visit_length] = 1\n",
    "corrected_data$excluded4[corrected_data$visit_latency >= higher_latency] = 1\n",
    "cat(\"Flagged a total of\", table(corrected_data$excluded4)[\"1\"], \"visits from the sample, or\",round(prop.table(table(corrected_data$excluded4))[\"1\"]*100,2),\"%.\\n\")"
   ]
  },
  {
   "cell_type": "code",
   "execution_count": null,
   "id": "00427040",
   "metadata": {
    "vscode": {
     "languageId": "r"
    }
   },
   "outputs": [],
   "source": [
    "# plot heavy tailed distributions\n",
    "p1 <- ggplot(data_trimming, aes(x = visit_latency)) +\n",
    "  geom_histogram(bins = 100) +\n",
    "  geom_vline(xintercept = higher_latency, color = \"red\", linetype = 'dashed') +\n",
    "  labs(x = \"Time Latency (sec)\", y = \"Raw Frequency\") +\n",
    "  theme_classic() + theme(text = element_text(size = 20),\n",
    "  plot.title = element_text(size = 20),\n",
    "  axis.title = element_text(size = 20),\n",
    "  axis.text = element_text(size = 20),\n",
    "  legend.title = element_text(size = 20),\n",
    "  legend.text = element_text(size = 20))\n",
    "p2 <- ggplot(data_trimming, aes(x = total_visit_length)) +\n",
    "  geom_histogram(bins = 100) +\n",
    "  geom_vline(xintercept = higher_visit_length, color = \"red\", linetype = 'dashed') +\n",
    "  labs(x = \"Visit Length (sec)\", y = \"Raw Frequency\") +\n",
    "  theme_classic() + theme(text = element_text(size = 20),\n",
    "  plot.title = element_text(size = 20),\n",
    "  axis.title = element_text(size = 20),\n",
    "  axis.text = element_text(size = 20),\n",
    "  legend.title = element_text(size = 20),\n",
    "  legend.text = element_text(size = 20))\n",
    "p3 <- ggplot(data_trimming, aes(x = total_peck_count)) +\n",
    "  geom_histogram(bins = 100) +\n",
    "  geom_vline(xintercept = higher_peckcount, color = \"red\", linetype = 'dashed') +\n",
    "  labs(x = \"Peck Count\", y = \"Raw Frequency\") +\n",
    "  theme_classic() + theme(text = element_text(size = 20),\n",
    "  plot.title = element_text(size = 20),\n",
    "  axis.title = element_text(size = 20),\n",
    "  axis.text = element_text(size = 20),\n",
    "  legend.title = element_text(size = 20),\n",
    "  legend.text = element_text(size = 20))\n",
    "  \n",
    "p4 <- ggplot(data_trimming[data_trimming$visit_latency<higher_latency,], aes(x = visit_latency)) +\n",
    "  geom_histogram(bins = 100) +\n",
    "  geom_vline(xintercept = median(data_trimming[data_trimming$visit_latency<higher_latency,]$visit_latency), color = \"green\") +\n",
    "  labs(x = \"Time Latency (sec)\", y = \"Filtered Frequency\") +\n",
    "  theme_classic() + theme(\n",
    "  plot.title = element_text(size = 20),\n",
    "  axis.title = element_text(size = 20),\n",
    "  axis.text = element_text(size = 20),\n",
    "  legend.title = element_text(size = 20),\n",
    "  legend.text = element_text(size = 20))\n",
    "p5 <- ggplot(data_trimming[data_trimming$total_visit_length<higher_visit_length,], aes(x = total_visit_length)) +\n",
    "  geom_histogram(bins = 100) +\n",
    "  geom_vline(xintercept = median(data_trimming[data_trimming$total_visit_length<higher_visit_length,]$total_visit_length), color = \"green\") +\n",
    "  labs(x = \"Visit Length (sec)\", y = \"Filtered Frequency\") +\n",
    "  theme_classic() + theme(\n",
    "  plot.title = element_text(size = 20),\n",
    "  axis.title = element_text(size = 20),\n",
    "  axis.text = element_text(size = 20),\n",
    "  legend.title = element_text(size = 20),\n",
    "  legend.text = element_text(size = 20))\n",
    "p6 <- ggplot(data_trimming[data_trimming$total_peck_count<higher_peckcount,], aes(x = total_peck_count)) +\n",
    "  geom_histogram(bins = 100) +\n",
    "  geom_vline(xintercept = median(data_trimming[data_trimming$total_peck_count<higher_peckcount,]$total_peck_count), color = \"green\") +\n",
    "  labs(x = \"Peck Count\", y = \"Filtered Frequency\") +\n",
    "  theme_classic() + theme(\n",
    "  plot.title = element_text(size = 20),\n",
    "  axis.title = element_text(size = 20),\n",
    "  axis.text = element_text(size = 20),\n",
    "  legend.title = element_text(size = 20),\n",
    "  legend.text = element_text(size = 20))\n",
    "\n",
    "# create data filtering grid\n",
    "grid = grid.arrange(p1, p2, p3, p4, p5, p6, ncol = 3)\n",
    "#ggsave(\"K:/ForagingPlatformsArena_local/filtered_distributions.png\", plot = grid, width = 16, height = 10, dpi = 600)\n"
   ]
  },
  {
   "cell_type": "markdown",
   "id": "f5e91465",
   "metadata": {},
   "source": [
    "## Create Datasets"
   ]
  },
  {
   "cell_type": "code",
   "execution_count": null,
   "id": "cc624e4f",
   "metadata": {
    "vscode": {
     "languageId": "r"
    }
   },
   "outputs": [],
   "source": [
    "# Calculate number of visits excluded by all criteria and convert to 0/1\n",
    "corrected_data$excluded_flag <- as.integer(\n",
    "  corrected_data$excluded1 == 1 | corrected_data$excluded2 == 1 | \n",
    "  corrected_data$excluded3 == 1 | corrected_data$excluded4 == 1 )\n",
    "\n",
    "# exclude non-engaging pigeons\n",
    "data_filtered = subset(corrected_data, excluded1 == 0)\n",
    "\n",
    "# exclude pigeons that never visited both platforms\n",
    "data_filtered = subset(data_filtered, excluded2 == 0)\n",
    "\n",
    "# exclude visits that are too short or have too few pecks\n",
    "data_filtered = subset(data_filtered, excluded3 == 0)\n",
    "\n",
    "# exclude outliers by 1% trimming\n",
    "data_filtered = subset(data_filtered, excluded4 == 0)\n",
    "data_filtered$PID = droplevels(data_filtered$PID)\n",
    "\n",
    "cat(\"Flagged a combined total of\", table(corrected_data[(corrected_data$status == 1 & corrected_data$transition_self == 0),]$excluded_flag)[\"1\"], \"visits from the sample, or\",round(prop.table(table(corrected_data[(corrected_data$status == 1 & corrected_data$transition_self == 0),]$excluded_flag))[\"1\"]*100,2),\"%.\\n\")"
   ]
  },
  {
   "cell_type": "code",
   "execution_count": null,
   "id": "567562c4-393c-4e31-9b5e-9ffbad39085b",
   "metadata": {
    "vscode": {
     "languageId": "r"
    }
   },
   "outputs": [],
   "source": [
    "data_filtered$num_transitions = data_filtered$visit_order_noself - 1\n",
    "\n",
    "# Normalize covariates\n",
    "data_filtered$z_num_transitions <- scale(data_filtered$num_transitions, center = TRUE, scale = TRUE)\n",
    "data_filtered$z_num_self_transitions = scale(data_filtered$num_self_transitions, center = TRUE, scale = TRUE)\n",
    "\n",
    "# calculate group mean centered num_self_transitions\n",
    "data_filtered <- data_filtered %>%\n",
    "    group_by(cond) %>%\n",
    "    mutate(\n",
    "        gmz_num_self_transitions = scale(num_self_transitions, center = TRUE, scale = TRUE),\n",
    "        gmz_num_transitions = scale(num_transitions, center = TRUE, scale = TRUE),\n",
    "        gmz_travel_dist = scale(travel_dist, center = TRUE, scale = TRUE)\n",
    "    ) %>%\n",
    "    ungroup()\n",
    "\n",
    "data_filtered$z_session_number_oncond = scale(data_filtered$session_number_oncond, center = TRUE, scale = TRUE)\n",
    "data_filtered$z_age = scale(data_filtered$age, center = TRUE, scale = TRUE)\n",
    "data_filtered$z_normal_weight = scale(data_filtered$normal_weight, center = TRUE, scale = TRUE)\n",
    "data_filtered$z_deprivation = scale(data_filtered$deprivation, center = TRUE, scale = TRUE)\n",
    "data_filtered$z_performance = scale(data_filtered$performance, center = TRUE, scale = TRUE)\n",
    "\n",
    "data_filtered$z_visit_latency = scale(data_filtered$visit_latency, center = TRUE, scale = TRUE)\n",
    "data_filtered$z_travel_time = scale(data_filtered$travel_time, center = TRUE, scale = TRUE)\n",
    "data_filtered$z_travel_dist = scale(data_filtered$travel_dist, center = TRUE, scale = TRUE)\n",
    "data_filtered$z_self_travel_dist = scale(data_filtered$self_travel_dist, center = TRUE, scale = TRUE)\n",
    "data_filtered$z_total_visit_length = scale(data_filtered$total_visit_length, center = TRUE, scale = TRUE)\n",
    "\n",
    "data_filtered$z_total_peck_count = scale(data_filtered$total_peck_count, center = TRUE, scale = TRUE)\n",
    "data_filtered$z_total_peck_rate = scale(data_filtered$total_peck_rate, center = TRUE, scale = TRUE)\n",
    "data_filtered$z_total_head_disp = scale(data_filtered$total_head_disp, center = TRUE, scale = TRUE)\n",
    "data_filtered$z_total_IPI_entropy = scale(data_filtered$total_IPI_entropy, center = TRUE, scale = TRUE)\n",
    "data_filtered$z_total_IPI_rmssd = scale(data_filtered$total_IPI_rmssd, center = TRUE, scale = TRUE)\n",
    "data_filtered$z_total_IPD_entropy = scale(data_filtered$total_IPD_entropy, center = TRUE, scale = TRUE)\n",
    "data_filtered$z_total_IPD_rmssd = scale(data_filtered$total_IPD_rmssd, center = TRUE, scale = TRUE)\n",
    "data_filtered$z_overpeck_ratio = scale(data_filtered$overpeck_ratio, center = TRUE, scale = TRUE)\n"
   ]
  },
  {
   "cell_type": "code",
   "execution_count": null,
   "id": "22d41c03",
   "metadata": {
    "vscode": {
     "languageId": "r"
    }
   },
   "outputs": [],
   "source": [
    "# firts visit, n = 75\n",
    "data_first_visit <- subset(data_filtered, (status ==1 &  transition_self == 0 & visit_order == 1))\n",
    "\n",
    "# second visit, n = 75\n",
    "data_second_visit <- subset(data_filtered, (status == 1 & transition_self == 0 & visit_order_noself == 2 & current_order == 1))\n",
    "\n",
    "# first elevated visit, n = 42\n",
    "data_first_visit_elevated <- bind_rows(subset(data_second_visit, condition == \"0-75\"), subset(data_first_visit, condition == \"75-75\"))\n",
    "data_first_visit_elevated$PID = droplevels(data_first_visit_elevated$PID)\n",
    "\n",
    "# depletion data, n = 87\n",
    "data_depletion <- corrected_data %>%\n",
    "    filter(status == 1 & transition_self == 0 & excluded1 == 0 & excluded3 == 0 & excluded4 == 0) %>%\n",
    "    group_by(PID, session_number_oncond, condition) %>%\n",
    "    mutate(\n",
    "        LH_diff = ifelse(condition == \"0-75\", \n",
    "                        depleted_low - depleted_high, \n",
    "                        depleted_A - depleted_B)\n",
    "    )%>%\n",
    "    # keep only single row per session\n",
    "    slice(which.max(visit_order_noself)) %>%\n",
    "    ungroup()\n",
    "\n",
    "# performance data, n = 81\n",
    "# TODO what about performance < 48?\n",
    "data_performance <- data_filtered %>%\n",
    "    filter(status == 1 & transition_self == 0) %>%\n",
    "    group_by(PID, session_number_oncond, condition) %>%\n",
    "    mutate(\n",
    "        LH_diff = ifelse(condition == \"0-75\", \n",
    "                        depleted_low - depleted_high, \n",
    "                        depleted_A - depleted_B)\n",
    "    )%>%\n",
    "    # keep only single row per session\n",
    "    slice(which.max(visit_order_noself)) %>%\n",
    "    ungroup()\n",
    "\n",
    "\n",
    "# total visit count per platform per session, n = 162\n",
    "data_visit_count_platform <- data_filtered %>%\n",
    "    filter(status == 1 & transition_self == 0) %>%\n",
    "    group_by(PID, session_number_oncond, condition, location) %>%\n",
    "    mutate(\n",
    "        self_transitions_count = sum(num_self_transitions)\n",
    "    )%>%\n",
    "    # keep only single row per platform per session\n",
    "    slice(which.max(visit_order_noself)) %>%\n",
    "    ungroup()\n",
    "\n",
    "# total visit count per session, n = 81\n",
    "data_visit_count <- data_visit_count_platform %>%\n",
    "    group_by(PID, session_number_oncond, condition) %>%\n",
    "    # keep only single row per session\n",
    "    slice(which.max(visit_order_noself)) %>%\n",
    "    ungroup()\n",
    "\n",
    "# real visits data, n = 1744, 37% censored\n",
    "data_visits <- subset(data_filtered, transition_self == 0)\n",
    "\n",
    "# real visits without censoring, n = 1101\n",
    "data_visits_finished <- subset(data_visits, status == 1)\n",
    "\n",
    "# prepare copy for residual correction\n",
    "data_visits_res <- data_visits\n",
    "\n",
    "#see section 3.3) Split dataset\n",
    "k = 8 \n",
    "# first visits\n",
    "data_visits_first = subset(data_visits, num_transitions <= k)\n",
    "\n",
    "# last visits\n",
    "data_visits_last <- data_visits %>%\n",
    "    group_by(PID, session_number_oncond, condition) %>%\n",
    "    mutate(\n",
    "        last_k_visit = ifelse(visit_order_noself > (max(visit_order_noself) - k), 1, 0)\n",
    "    ) %>%\n",
    "    ungroup() %>%\n",
    "    filter(last_k_visit == 1) %>%\n",
    "    select(-last_k_visit) %>%\n",
    "    group_by(PID, session_number_oncond, condition) %>%\n",
    "    mutate(\n",
    "        last_visit_order = (max(visit_order_noself) - k + 1) - visit_order_noself,\n",
    "        num_transitions_corr = visit_order_noself - (max(visit_order_noself) - k - 1),\n",
    "    ) %>%\n",
    "    ungroup()\n"
   ]
  },
  {
   "cell_type": "markdown",
   "id": "e71e52cb",
   "metadata": {},
   "source": [
    "# 3) Results"
   ]
  },
  {
   "cell_type": "markdown",
   "id": "2a5e3c84",
   "metadata": {},
   "source": [
    "# 3.1 Engagement with Setup"
   ]
  },
  {
   "cell_type": "markdown",
   "id": "32c6a9e2",
   "metadata": {},
   "source": [
    "## First visit Latencies"
   ]
  },
  {
   "cell_type": "code",
   "execution_count": null,
   "id": "5002eb71",
   "metadata": {
    "vscode": {
     "languageId": "r"
    }
   },
   "outputs": [],
   "source": [
    "boxplot(data_first_visit$total_latency ~ data_first_visit$condition, main = \"First Visit Latency\", xlab = \"Condition\", ylab = \"Latency (sec)\")"
   ]
  },
  {
   "cell_type": "code",
   "execution_count": null,
   "id": "850826d9",
   "metadata": {
    "vscode": {
     "languageId": "r"
    }
   },
   "outputs": [],
   "source": [
    "# median time latency first visit\n",
    "data = data_first_visit\n",
    "med = quantile(data$visit_latency, probs = 0.5)\n",
    "q1 = quantile(data$visit_latency, probs = 0.25)\n",
    "q3 = quantile(data$visit_latency, probs = 0.75)\n",
    "iqr = q3 - q1\n",
    "paste(\"Average First Visit latency Mdn = \", med, \"sec, IQR = \", iqr, \"sec\")\n",
    "\n",
    "# difference between conditions\n",
    "kruskal.test(visit_latency ~ condition, data)"
   ]
  },
  {
   "cell_type": "code",
   "execution_count": null,
   "id": "0d5d785e",
   "metadata": {
    "vscode": {
     "languageId": "r"
    }
   },
   "outputs": [],
   "source": [
    "# median time latency first visit elevated platform\n",
    "data = data_first_visit_elevated\n",
    "med = quantile(data$total_latency[data$condition == \"75-75\"], probs = 0.5)\n",
    "q1 = quantile(data$total_latency[data$condition == \"75-75\"], probs = 0.25)\n",
    "q3 = quantile(data$total_latency[data$condition == \"75-75\"], probs = 0.75)\n",
    "iqr = q3 - q1\n",
    "cat(\"Elevated first Visit latency for 75-75 Mdn = \", med, \"sec, IQR = \", iqr, \"sec \\n\")\n",
    "\n",
    "med = quantile(data$total_latency[data$condition == \"0-75\"], probs = 0.5)\n",
    "q1 = quantile(data$total_latency[data$condition == \"0-75\"], probs = 0.25)\n",
    "q3 = quantile(data$total_latency[data$condition == \"0-75\"], probs = 0.75)\n",
    "iqr = q3 - q1\n",
    "cat(\"Elevated first Visit latency for 0-75 Mdn = \", med, \"sec, IQR = \", iqr, \"sec \\n\")\n",
    "\n",
    "# difference between conditions\n",
    "kruskal.test(total_latency ~ condition, data)\n",
    "\n",
    "# median time spent on previous platform\n",
    "med = quantile(data$alt_cum_visit_length[data$condition == \"0-75\"], probs = 0.5)\n",
    "q1 = quantile(data$alt_cum_visit_length[data$condition == \"0-75\"], probs = 0.25)\n",
    "q3 = quantile(data$alt_cum_visit_length[data$condition == \"0-75\"], probs = 0.75)\n",
    "iqr = q3 - q1\n",
    "cat(\"Previous cumulative visit length for 0-75 Mdn = \", med, \"sec, IQR = \", iqr, \"sec \\n\")\n"
   ]
  },
  {
   "cell_type": "markdown",
   "id": "cd2bbdcc",
   "metadata": {},
   "source": [
    "## Platform preference"
   ]
  },
  {
   "cell_type": "code",
   "execution_count": null,
   "id": "72f3bdd3",
   "metadata": {
    "vscode": {
     "languageId": "r"
    }
   },
   "outputs": [],
   "source": [
    "boxplot(data_first_visit$total_latency ~ data_first_visit$condition, main = \"First Visit Latency\", xlab = \"Pigeon ID\", ylab = \"Latency (sec)\")"
   ]
  },
  {
   "cell_type": "code",
   "execution_count": null,
   "id": "ff781aa1",
   "metadata": {
    "vscode": {
     "languageId": "r"
    }
   },
   "outputs": [],
   "source": [
    "# on the ground\n",
    "data = subset(data_first_visit, condition == \"0-0\")\n",
    "binom.test(table(data$location), alternative = \"two.sided\")\n",
    "\n",
    "# latency to first platform location \n",
    "#wilcox.test(data$visit_latency ~ data$location, alternative = \"two.sided\")"
   ]
  },
  {
   "cell_type": "code",
   "execution_count": null,
   "id": "1d7dba92",
   "metadata": {
    "vscode": {
     "languageId": "r"
    }
   },
   "outputs": [],
   "source": [
    "# elevated\n",
    "data = subset(data_first_visit, condition == \"75-75\")\n",
    "binom.test(table(data$location), alternative = \"two.sided\")\n",
    "\n",
    "# latency to first platform location \n",
    "#wilcox.test(data$visit_latency ~ data$location, alternative = \"two.sided\")\n"
   ]
  },
  {
   "cell_type": "markdown",
   "id": "db6ccdd7",
   "metadata": {},
   "source": [
    "## Latency second visit"
   ]
  },
  {
   "cell_type": "code",
   "execution_count": null,
   "id": "6030fd5e",
   "metadata": {
    "vscode": {
     "languageId": "r"
    }
   },
   "outputs": [],
   "source": [
    "boxplot(data_second_visit$total_latency ~ data_second_visit$condition, main = \"Second Visit Latency\", xlab = \"Condition\", ylab = \"Latency (sec)\")"
   ]
  },
  {
   "cell_type": "code",
   "execution_count": null,
   "id": "eca25608",
   "metadata": {
    "vscode": {
     "languageId": "r"
    }
   },
   "outputs": [],
   "source": [
    "# median time latency second visit\n",
    "data = data_second_visit\n",
    "med = quantile(data$total_latency, probs = 0.5)\n",
    "q1 = quantile(data$total_latency, probs = 0.25)\n",
    "q3 = quantile(data$total_latency, probs = 0.75)\n",
    "iqr = q3 - q1\n",
    "cat(\"Average Second Visit latency Mdn = \", med, \"sec, IQR = \", iqr, \"sec \\n\")\n",
    "# Mdn = 10.18 sec, IQR = 3.14 sec\n",
    "\n",
    "data_second_visit %>%\n",
    "  group_by(condition) %>%\n",
    "  summarise(median = quantile(total_latency, probs = 0.5), IQR = quantile(total_latency, probs = 0.75)-quantile(total_latency, probs = 0.25))\n"
   ]
  },
  {
   "cell_type": "code",
   "execution_count": null,
   "id": "7d790212",
   "metadata": {
    "vscode": {
     "languageId": "r"
    }
   },
   "outputs": [],
   "source": [
    "# Perform a Wilcoxon rank-sum test\n",
    "wilcox.test(total_latency ~ condition, data = subset(data, condition != \"75-75\"))\n",
    "wilcox.test(total_latency ~ condition, data = subset(data, condition != \"0-0\"))\n",
    "wilcox.test(total_latency ~ condition, data = subset(data, condition != \"0-75\"))\n"
   ]
  },
  {
   "cell_type": "markdown",
   "id": "a971e297",
   "metadata": {},
   "source": [
    "# 3.2 Foraging Differences"
   ]
  },
  {
   "cell_type": "markdown",
   "id": "7199942e",
   "metadata": {},
   "source": [
    "Compare per-session foraging parameters such as `performance` and `number of transitions` between conditions, i.e. travel cost."
   ]
  },
  {
   "cell_type": "code",
   "execution_count": null,
   "id": "41c2114c",
   "metadata": {
    "vscode": {
     "languageId": "r"
    }
   },
   "outputs": [],
   "source": [
    "table(data_performance$depleted_A, data_performance$depleted_B)"
   ]
  },
  {
   "cell_type": "markdown",
   "id": "2031afe5",
   "metadata": {},
   "source": [
    "## Model 1: Performance"
   ]
  },
  {
   "cell_type": "code",
   "execution_count": null,
   "id": "64c2a27a",
   "metadata": {
    "vscode": {
     "languageId": "r"
    }
   },
   "outputs": [],
   "source": [
    "# food consumed\n",
    "data = data_performance\n",
    "model1 <- lmer(food_consumed ~ condition + z_session_number_oncond + z_age + z_deprivation + z_normal_weight + (1 | PID), data)\n",
    "summary(model1)\n",
    "\n",
    "# check for normality\n",
    "par(mfrow=c(1,3), cex=1.5)\n",
    "options(repr.plot.width=20, repr.plot.height=5)\n",
    "qqnorm(residuals(model1))\n",
    "hist(residuals(model1), breaks = 50)\n",
    "plot(fitted(model1), residuals(model1))\n",
    "\n",
    "# posthoc pairwise\n",
    "emm_condition <- emmeans(model1, ~ condition)\n",
    "pairwise_condition <- contrast(emm_condition, method = 'pairwise', adjust = \"holm\")\n",
    "summary(pairwise_condition)\n",
    "\n"
   ]
  },
  {
   "cell_type": "code",
   "execution_count": null,
   "id": "5f837c4a",
   "metadata": {
    "vscode": {
     "languageId": "r"
    }
   },
   "outputs": [],
   "source": [
    "emm_df <- as.data.frame(emm_condition)\n",
    "scale = 2.5*max(emm_df$upper.CL - emm_df$lower.CL)\n",
    "low = mean(emm_df$emmean) - scale/2\n",
    "high = mean(emm_df$emmean) + scale/2"
   ]
  },
  {
   "cell_type": "code",
   "execution_count": null,
   "id": "2226bba3",
   "metadata": {
    "vscode": {
     "languageId": "r"
    }
   },
   "outputs": [],
   "source": [
    "# Plot the EMMs\n",
    "ggplot(emm_df, aes(x = condition, y = emmean, fill = condition, color = condition)) +\n",
    "  geom_errorbar(aes(ymin = lower.CL, ymax = upper.CL), width = 0.5, color = \"black\") +\n",
    "  geom_point(shape = 18, size = 10, show.legend = FALSE) +\n",
    "  scale_color_brewer(palette = \"Set1\") +\n",
    "  coord_cartesian(ylim = c(low, high)) +\n",
    "  \n",
    "  scale_y_continuous(\n",
    "    breaks = seq(low, 60, length.out = 5),  # Adjust the number of breaks as needed\n",
    "    labels = scales::number_format(accuracy = 5)  # Format the labels\n",
    "  ) +\n",
    "  labs(\n",
    "    x = \"Platform condition\",\n",
    "    y = \"Food items consumed\",\n",
    "  ) +\n",
    "  theme_classic() + theme(text = element_text(size = 20)) +\n",
    "  theme(aspect.ratio = 1)\n",
    "\n",
    "ggsave(\"C:/Users/hidalggc/sciebo/Workspace/ForagingPlatforms/figure3A.png\", height = 100, units = \"mm\", dpi = 600)"
   ]
  },
  {
   "cell_type": "code",
   "execution_count": null,
   "id": "5e880a3d",
   "metadata": {
    "vscode": {
     "languageId": "r"
    }
   },
   "outputs": [],
   "source": [
    "options(repr.plot.height=10)\n",
    "ggplot(data, aes(x = session_number_ontask, y = food_consumed, fill = condition)) +\n",
    "  geom_boxplot() +\n",
    "  scale_fill_brewer(palette = \"Set1\") +\n",
    "  labs(\n",
    "    x = \"Session Number\",\n",
    "    y = \"Food items consumed\"\n",
    "  ) +\n",
    "  theme_classic() + theme(text = element_text(size = 20)) + theme(aspect.ratio = 1) +\n",
    "  facet_wrap(~condition, ncol = 1, scales = \"free_x\", labeller = label_both) +\n",
    "  theme(strip.background = element_blank(), strip.text = element_text(size = 20), legend.position = \"none\")\n",
    "#ggsave(\"K:/ForagingPlatformsArena_local/food_consumed_filt.png\", width = 8, height = 10, dpi = 600)"
   ]
  },
  {
   "cell_type": "code",
   "execution_count": null,
   "id": "609c1a23",
   "metadata": {
    "vscode": {
     "languageId": "r"
    }
   },
   "outputs": [],
   "source": [
    "options(repr.plot.height=5)\n",
    "\n",
    "ggplot(data, aes(x = condition, y = food_consumed, fill = condition)) +\n",
    "  geom_boxplot(notch = TRUE, show.legend = FALSE) +\n",
    "  scale_fill_brewer(palette = \"Set1\") +\n",
    "  labs(\n",
    "    x = \"Condition\",\n",
    "    y = \"Food items consumed\",\n",
    "    fill = \"Condition\"\n",
    "  ) +\n",
    "  theme_classic() + theme(text = element_text(size = 20))+\n",
    "  theme(aspect.ratio = 1)\n",
    "#ggsave(\"K:/ForagingPlatformsArena_local/food_consumed_filt.png\", width = 8, height = 10, dpi = 600)"
   ]
  },
  {
   "cell_type": "markdown",
   "id": "2aee6bf8",
   "metadata": {},
   "source": [
    "## Model 2: Depletion difference"
   ]
  },
  {
   "cell_type": "code",
   "execution_count": null,
   "id": "9bedbf17",
   "metadata": {
    "vscode": {
     "languageId": "r"
    }
   },
   "outputs": [],
   "source": [
    "# median and IQR of depletion difference\n",
    "paste(\"Median platform difference in consumed food items Mdn = \", quantile(abs(data_performance$LH_diff), probs = 0.5), \n",
    "\", IQR = \", quantile(abs(data_performance$LH_diff), probs = 0.75) - quantile(abs(data_performance$LH_diff), probs = 0.25), \"\")\n",
    "\n",
    "# kruskal wallis\n",
    "kruskal.test(abs(LH_diff) ~ condition, data_performance)\n",
    "\n",
    "subset(data_performance, condition == \"0-75\") %>%\n",
    "    group_by(LH_diff_sign = case_when(\n",
    "        LH_diff < 0 ~ \"LH_diff < 0\",\n",
    "        LH_diff == 0 ~ \"LH_diff == 0\",\n",
    "        LH_diff > 0 ~ \"LH_diff > 0\"\n",
    "    )) %>%\n",
    "    summarise(\n",
    "        count = n(),\n",
    "        median = quantile(abs(LH_diff), probs = 0.5),\n",
    "        IQR = quantile(abs(LH_diff), probs = 0.75) - quantile(abs(LH_diff), probs = 0.25)\n",
    "    )\n",
    "table(subset(data_performance, condition == \"0-75\")$LH_diff)"
   ]
  },
  {
   "cell_type": "code",
   "execution_count": null,
   "id": "f08f8814",
   "metadata": {
    "vscode": {
     "languageId": "r"
    }
   },
   "outputs": [],
   "source": [
    "options(repr.plot.height=10)\n",
    "\n",
    "ggplot(data, aes(x = session_number_ontask, y = abs(LH_diff), fill = condition)) +\n",
    "  geom_boxplot() +\n",
    "  scale_fill_brewer(palette = \"Set1\") +\n",
    "  labs(\n",
    "    x = \"Session Number\",\n",
    "    y = \"Patch depletion difference\",\n",
    "    fill = \"Condition\"\n",
    "  ) + \n",
    "  theme_classic() + theme(text = element_text(size = 20)) + theme(aspect.ratio = 1) +\n",
    "  facet_wrap(~condition, ncol = 1, scales = \"free_x\", labeller = label_both) +\n",
    "  theme(strip.background = element_blank(), strip.text = element_text(size = 20), legend.position = \"none\")\n",
    "#ggsave(\"K:/ForagingPlatformsArena_local/food_consumed_diff_filt.png\", width = 8, height = 10, dpi = 600)\n"
   ]
  },
  {
   "cell_type": "markdown",
   "id": "bcd504d6",
   "metadata": {},
   "source": [
    "## Model 3: Transitions per condition"
   ]
  },
  {
   "cell_type": "code",
   "execution_count": null,
   "id": "6a16d51c",
   "metadata": {
    "vscode": {
     "languageId": "r"
    }
   },
   "outputs": [],
   "source": [
    "# number of transitions per session\n",
    "data = data_visit_count\n",
    "med <- quantile(data$num_transitions, probs = 0.5)\n",
    "q1 <- quantile(data$num_transitions -1, probs = 0.25)\n",
    "q3 <- quantile(data$num_transitions -1, probs = 0.75)\n",
    "iqr <- q3 - q1\n",
    "paste(\"Transitions per session Mdn = \", med, \"transitions, IQR = \", iqr, \"transitions\")\n"
   ]
  },
  {
   "cell_type": "code",
   "execution_count": null,
   "id": "03711c07",
   "metadata": {
    "vscode": {
     "languageId": "r"
    }
   },
   "outputs": [],
   "source": [
    "# number of transitions by condition\n",
    "# NOTE previous analysis had sudo-replication considering both platforms\n",
    "data = data_visit_count\n",
    "model3 <- lmer(num_transitions ~ condition + z_session_number_oncond + z_age + z_performance + z_deprivation + z_normal_weight +(1 | PID), data)\n",
    "summary(model3)\n",
    "\n",
    "# check for normality\n",
    "par(mfrow=c(1,3), cex=1.5)\n",
    "options(repr.plot.width=20, repr.plot.height=5)\n",
    "qqnorm(residuals(model3))\n",
    "hist(residuals(model3), breaks = 50)\n",
    "plot(fitted(model3), residuals(model3))\n",
    "\n",
    "# posthoc\n",
    "emm_condition <- emmeans(model3, ~ condition)\n",
    "pairwise_condition <- contrast(emm_condition, method = 'pairwise', adjust = \"holm\")\n",
    "summary(pairwise_condition)\n",
    "\n"
   ]
  },
  {
   "cell_type": "code",
   "execution_count": null,
   "id": "1fb579ed",
   "metadata": {
    "vscode": {
     "languageId": "r"
    }
   },
   "outputs": [],
   "source": [
    "ggplot(data, aes(x = condition, y = num_transitions, fill = condition)) +\n",
    "  geom_boxplot(notch = TRUE) +\n",
    "  scale_fill_brewer(palette = \"Set1\") +\n",
    "  labs(\n",
    "    x = \"Condition\",\n",
    "    y = \"Number of transitions\",\n",
    "    fill = \"Condition\"\n",
    "  ) +\n",
    "  theme_classic() + theme(text = element_text(size = 20)) +\n",
    "  theme(aspect.ratio=1)\n",
    "#ggsave(\"K:/ForagingPlatformsArena_local/total_transition_count.png\", width = 8, height = 5, dpi = 600)\n"
   ]
  },
  {
   "cell_type": "code",
   "execution_count": null,
   "id": "e6d2f470",
   "metadata": {
    "vscode": {
     "languageId": "r"
    }
   },
   "outputs": [],
   "source": [
    "emm_df <- as.data.frame(emm_condition)\n",
    "scale = 2.5*max(emm_df$upper.CL - emm_df$lower.CL)\n",
    "low = mean(emm_df$emmean) - scale/2\n",
    "high = mean(emm_df$emmean) + scale/2"
   ]
  },
  {
   "cell_type": "code",
   "execution_count": null,
   "id": "ebf262c5",
   "metadata": {
    "vscode": {
     "languageId": "r"
    }
   },
   "outputs": [],
   "source": [
    "# Plot the EMMs\n",
    "ggplot(emm_df, aes(x = condition, y = emmean, fill = condition, color = condition)) +\n",
    "  geom_errorbar(aes(ymin = lower.CL, ymax = upper.CL), width = 0.5, color = \"black\") +\n",
    "  geom_point(shape = 18, size = 10, show.legend = FALSE) +\n",
    "  scale_color_brewer(palette = \"Set1\") +\n",
    "  coord_cartesian(ylim = c(low, high)) +\n",
    "  labs(\n",
    "    x = \"Platform condition\",\n",
    "    y = \"Number of transitions\",\n",
    "    fill = \"Condition\"\n",
    "  ) +\n",
    "  scale_y_continuous(\n",
    "    breaks = seq(low, 28, length.out = 5),  # Adjust the number of breaks as needed\n",
    "    labels = scales::number_format(accuracy = 5)  # Format the labels\n",
    "  ) +\n",
    "  theme_classic() + theme(text = element_text(size = 20))+\n",
    "  theme(aspect.ratio = 1)\n",
    "\n",
    "  ggsave(\"C:/Users/hidalggc/sciebo/Workspace/ForagingPlatforms/figure3B.png\", height = 100, units = \"mm\", dpi = 600)"
   ]
  },
  {
   "cell_type": "markdown",
   "id": "b6f5df39",
   "metadata": {},
   "source": [
    "## Model 4: Self-transitions per condition"
   ]
  },
  {
   "cell_type": "code",
   "execution_count": null,
   "id": "2e8ad5c4",
   "metadata": {
    "vscode": {
     "languageId": "r"
    }
   },
   "outputs": [],
   "source": [
    "# number of self transitions per platform per session\n",
    "data = data_visit_count_platform\n",
    "med <- quantile(data$self_transitions_count, probs = 0.5)\n",
    "q1 <- quantile(data$self_transitions_count, probs = 0.25)\n",
    "q3 <- quantile(data$self_transitions_count, probs = 0.75)\n",
    "iqr <- q3 - q1\n",
    "paste(\"Self-transitions Mdn = \", med, \"self-transitions, IQR = \", iqr, \"self-transitions\")"
   ]
  },
  {
   "cell_type": "code",
   "execution_count": null,
   "id": "231c06c9",
   "metadata": {
    "vscode": {
     "languageId": "r"
    }
   },
   "outputs": [],
   "source": [
    "boxplot(data_visit_count_platform$self_transitions_count ~ data_visit_count_platform$cond, main = \"Self-Transitions\", xlab = \"Condition\", ylab = \"Self-Transitions\")"
   ]
  },
  {
   "cell_type": "code",
   "execution_count": null,
   "id": "acf1e99e",
   "metadata": {
    "vscode": {
     "languageId": "r"
    }
   },
   "outputs": [],
   "source": [
    "# number of self transitions per platform by condition\n",
    "data = data_visit_count_platform\n",
    "model4 <- lmer(self_transitions_count ~ cond + z_session_number_oncond + z_age + z_performance + z_deprivation + z_normal_weight +(1 | PID), data)\n",
    "summary(model4)\n",
    "\n",
    "# check for normality\n",
    "par(mfrow=c(1,3), cex=1.5)\n",
    "options(repr.plot.width=20, repr.plot.height=5)\n",
    "qqnorm(residuals(model4))\n",
    "hist(residuals(model4), breaks = 50)\n",
    "plot(fitted(model4), residuals(model4))\n",
    "\n",
    "# posthoc\n",
    "emm_condition <- emmeans(model4, ~ cond)\n",
    "pairwise_condition <- contrast(emm_condition, method = 'pairwise', adjust = \"holm\")\n",
    "summary(pairwise_condition)\n"
   ]
  },
  {
   "cell_type": "code",
   "execution_count": null,
   "id": "4417b97b",
   "metadata": {
    "vscode": {
     "languageId": "r"
    }
   },
   "outputs": [],
   "source": [
    "ggplot(data, aes(x = elevation, y = self_transitions_count, fill = condition)) +\n",
    "  geom_boxplot(notch = TRUE) +\n",
    "  scale_fill_brewer(palette = \"Set1\") +\n",
    "  labs(\n",
    "    x = \"Elevation (mm)\",\n",
    "    y = \"Number of self-transition\",\n",
    "    fill = \"Condition\"\n",
    "  ) +\n",
    "  theme_classic() + theme(text = element_text(size = 20)) +\n",
    "  theme(aspect.ratio = 1)\n",
    "#ggsave(\"K:/ForagingPlatformsArena_local/total_self_transition_elevation.png\", width = 5, height = 5, dpi = 600)"
   ]
  },
  {
   "cell_type": "code",
   "execution_count": null,
   "id": "789291af",
   "metadata": {
    "vscode": {
     "languageId": "r"
    }
   },
   "outputs": [],
   "source": [
    "emm_df <- as.data.frame(emm_condition)\n",
    "emm_df$condition <- c(\"0-0\", \"0-75\", \"0-75\", \"75-75\")\n",
    "emm_df$elevation <- c(\"0 mm\", \"0 mm\", \"750 mm\", \"750 mm\")\n",
    "scale = 2.5*max(emm_df$upper.CL - emm_df$lower.CL)\n",
    "low = mean(emm_df$emmean) - scale/2\n",
    "high = mean(emm_df$emmean) + scale/2"
   ]
  },
  {
   "cell_type": "code",
   "execution_count": null,
   "id": "5567284f",
   "metadata": {
    "vscode": {
     "languageId": "r"
    }
   },
   "outputs": [],
   "source": [
    "# Plot the EMMs\n",
    "ggplot(emm_df, aes(x = factor(elevation), y = emmean, color = condition)) +\n",
    "  geom_errorbar(aes(ymin = lower.CL, ymax = upper.CL, group = condition), width = 0.5, position = position_dodge(width = 0.9), color = \"black\") +\n",
    "  geom_point(shape = 18, size = 10, position = position_dodge(width = 0.9), show.legend = TRUE) +\n",
    "  labs(\n",
    "    x = \"Platform elevation\",\n",
    "    y = \"Number of self-transitions\",\n",
    "    fill = \"Condition\"\n",
    "  ) +\n",
    "  scale_color_brewer(palette = \"Set1\", guide = guide_legend(override.aes = list(shape= 16, size = 6))) +\n",
    "  coord_cartesian(ylim = c(low, high)) +\n",
    "  scale_x_discrete(\n",
    "    breaks = c(\"0 mm\", \"750 mm\"),\n",
    "    labels = c(\"0 mm\", \"750 mm\"),\n",
    "    drop = FALSE\n",
    "  ) +  \n",
    "  scale_y_continuous(\n",
    "    breaks = seq(low, 28, length.out = 5),  # Adjust the number of breaks as needed\n",
    "    labels = scales::number_format(accuracy = 5)  # Format the labels\n",
    "  ) +\n",
    "  theme_classic() + theme(text = element_text(size = 20))+\n",
    "  theme(aspect.ratio = 1)\n",
    "\n",
    "  ggsave(\"C:/Users/hidalggc/sciebo/Workspace/ForagingPlatforms/figure3C.png\", height = 100, units = \"mm\", dpi = 600)"
   ]
  },
  {
   "cell_type": "markdown",
   "id": "58c9ae17",
   "metadata": {},
   "source": [
    "## Time away from platform"
   ]
  },
  {
   "cell_type": "code",
   "execution_count": null,
   "id": "05f3b830",
   "metadata": {
    "vscode": {
     "languageId": "r"
    }
   },
   "outputs": [],
   "source": [
    "# subset data for status\n",
    "data = subset(data_visits, status == 1)\n",
    "\n",
    "# total latency marks the absolute beginning of each visit since the start of the session\n",
    "ggplot(data, aes(x = total_latency + total_visit_length, y = visit_order_noself, color = condition)) +\n",
    "  geom_point(size = 1) +\n",
    "  geom_smooth(method = \"loess\", se = TRUE, size = 2) +\n",
    "  scale_x_continuous(limits = c(0, 1500)) +\n",
    "  labs(\n",
    "    x = \"Session time (sec)\",\n",
    "    y = \"Number of visits\",\n",
    "    color = \"Condition\"\n",
    "  ) +\n",
    "  theme_classic() + theme(text = element_text(size = 20)) +  \n",
    "  theme(aspect.ratio = 1/2)+\n",
    "  scale_color_brewer(palette = \"Set1\")"
   ]
  },
  {
   "cell_type": "code",
   "execution_count": null,
   "id": "ff07f30b",
   "metadata": {
    "vscode": {
     "languageId": "r"
    }
   },
   "outputs": [],
   "source": [
    "# plot cumulative time on platform\n",
    "ggplot(data, aes(x = total_latency + total_visit_length, y = cum_visit_length + alt_cum_visit_length, color = condition)) +\n",
    "  scale_x_continuous(limits = c(0, 1500)) +\n",
    "  scale_y_continuous(limits = c(0, 1500)) +\n",
    "  geom_point(size = 1) +\n",
    "  geom_abline(intercept = 0, slope = 1, linetype = \"dashed\", color = \"black\") +\n",
    "  geom_smooth(method = \"loess\", se = TRUE, size = 2) +\n",
    "  labs(\n",
    "    x = \"Time (sec)\",\n",
    "    y = \"Cum. time on platform (sec)\",\n",
    "    color = \"Condition\"\n",
    "  ) +\n",
    "  theme_classic() + theme(text = element_text(size = 20)) +  \n",
    "  theme(aspect.ratio = 1/2)+\n",
    "  scale_color_brewer(palette = \"Set1\")\n"
   ]
  },
  {
   "cell_type": "code",
   "execution_count": null,
   "id": "a5303df7",
   "metadata": {
    "vscode": {
     "languageId": "r"
    }
   },
   "outputs": [],
   "source": [
    "# TODO \n",
    "# add bar graph of time away from platform over time"
   ]
  },
  {
   "cell_type": "code",
   "execution_count": null,
   "id": "73845270",
   "metadata": {
    "vscode": {
     "languageId": "r"
    }
   },
   "outputs": [],
   "source": [
    "# overall time on platform\n",
    "total_time_on_platform = aggregate(total_visit_length ~ PID + session_number_ontask, data, FUN = sum)[, 3]\n",
    "median_onplatform = quantile(total_time_on_platform, probs = 0.5)\n",
    "q1 = quantile(total_time_on_platform, probs = 0.25)\n",
    "q3 = quantile(total_time_on_platform, probs = 0.75)\n",
    "iqr = q3 - q1\n",
    "percent_med = median_onplatform/(20*60)*100\n",
    "paste(\"Overall time on platform Mdn = \", median_onplatform, \"sec, IQR = \", iqr, \"sec, \", round(percent_med, 2), \"%\")\n",
    "\n",
    "# transition time\n",
    "travel_time = aggregate(travel_time ~ PID + session_number_ontask, data, FUN = sum)[, 3]\n",
    "median_travel = quantile(travel_time, probs = 0.5)\n",
    "q1 = quantile(travel_time, probs = 0.25)\n",
    "q3 = quantile(travel_time, probs = 0.75)\n",
    "iqr = q3 - q1\n",
    "percent_med = median_travel/(20*60)*100\n",
    "paste(\"Transition time Mdn = \", median_travel, \"sec, IQR = \", iqr, \"sec, \", round(percent_med, 2), \"%\")    \n"
   ]
  },
  {
   "cell_type": "code",
   "execution_count": null,
   "id": "cfe82ef5",
   "metadata": {
    "vscode": {
     "languageId": "r"
    }
   },
   "outputs": [],
   "source": [
    "# first 10 minutes\n",
    "total_time_on_platform = aggregate(total_visit_length ~ PID + session_number_ontask , data = subset(data, total_latency <= 600), FUN = sum)[, 3]\n",
    "median = quantile(total_time_on_platform, probs = 0.5)\n",
    "q1 = quantile(total_time_on_platform, probs = 0.25)\n",
    "q3 = quantile(total_time_on_platform, probs = 0.75)\n",
    "iqr = q3 - q1\n",
    "percent_med = median/(median_onplatform)*100\n",
    "paste(\"First 10min time on platform Mdn= \", median, \"sec, IQR = \", iqr, \"sec, \", round(percent_med, 2), \"%\")    \n",
    "\n",
    "travel_time = aggregate(travel_time ~ PID + session_number_ontask, data = subset(data, total_latency <= 600), FUN = sum)[, 3]\n",
    "median = quantile(travel_time, probs = 0.5)\n",
    "q1 = quantile(travel_time, probs = 0.25)\n",
    "q3 = quantile(travel_time, probs = 0.75)\n",
    "iqr = q3 - q1\n",
    "percent_med = median/(median_travel)*100\n",
    "paste(\"First 10min travel time Mdn= \", median, \"sec, IQR = \", iqr, \"sec, \", round(percent_med, 2), \"%\")    \n",
    "\n",
    "\n",
    "# last 10 minutes\n",
    "total_time_on_platform = aggregate(total_visit_length ~ PID + session_number_ontask , data = subset(data, total_latency > 600), FUN = sum)[, 3]\n",
    "median = quantile(total_time_on_platform, probs = 0.5)\n",
    "q1 = quantile(total_time_on_platform, probs = 0.25)\n",
    "q3 = quantile(total_time_on_platform, probs = 0.75)\n",
    "iqr = q3 - q1\n",
    "percent_med = median/(median_onplatform)*100\n",
    "paste(\"Last 10min time on platform Mdn= \", median, \"sec, IQR = \", iqr, \"sec, \", round(percent_med, 2), \"%\") \n",
    "\n",
    "travel_time = aggregate(travel_time ~ PID + session_number_ontask, data = subset(data, total_latency > 600), FUN = sum)[, 3]\n",
    "median = quantile(travel_time, probs = 0.5)\n",
    "q1 = quantile(travel_time, probs = 0.25)\n",
    "q3 = quantile(travel_time, probs = 0.75)\n",
    "iqr = q3 - q1\n",
    "percent_med = median/(median_travel)*100\n",
    "paste(\"Last 10min travel time Mdn= \", median, \"sec, IQR = \", iqr, \"sec, \", round(percent_med, 2), \"%\")    \n"
   ]
  },
  {
   "cell_type": "markdown",
   "id": "21a87924",
   "metadata": {},
   "source": [
    "# (EXCLUDED) Cost of Travel"
   ]
  },
  {
   "cell_type": "code",
   "execution_count": null,
   "id": "abee4750",
   "metadata": {
    "vscode": {
     "languageId": "r"
    }
   },
   "outputs": [],
   "source": [
    "# calculate average travel times per condition\n",
    "data_visits_finished %>%\n",
    "  group_by(cond) %>%\n",
    "  summarise(\n",
    "    median_travel_time = quantile(travel_time, probs = 0.5),\n",
    "    IQR_travel_time = quantile(travel_time, probs = 0.75) - quantile(travel_time, probs = 0.25),\n",
    "    median_travel_dist = quantile(travel_dist, probs = 0.5)/1000,\n",
    "    IQR_travel_dist = (quantile(travel_dist, probs = 0.75) - quantile(travel_dist, probs = 0.25))/1000\n",
    "  )\n"
   ]
  },
  {
   "cell_type": "markdown",
   "id": "acf457c5",
   "metadata": {},
   "source": [
    "## Model 5: Travel distance"
   ]
  },
  {
   "cell_type": "code",
   "execution_count": null,
   "id": "ebfb7021",
   "metadata": {
    "vscode": {
     "languageId": "r"
    }
   },
   "outputs": [],
   "source": [
    "# travel distance\n",
    "data = data_visits_finished\n",
    "model5 <- lmer(log(travel_dist) ~ cond + z_num_transitions + z_session_number_oncond + z_age + z_performance + z_deprivation + z_normal_weight +(1 | PID), data)\n",
    "summary(model5)\n",
    "\n",
    "emms_condition <- emmeans(model5, ~ cond, type = \"response\")\n",
    "pairwise_condition <- contrast(emms_condition, method = 'pairwise', adjust = \"holm\")\n",
    "summary(pairwise_condition)\n",
    "log(summary(pairwise_condition)$ratio)\n",
    "\n",
    "# check for normality\n",
    "par(mfrow=c(1,3), cex=1.5)\n",
    "options(repr.plot.width=20, repr.plot.height=5)\n",
    "qqnorm(residuals(model5))\n",
    "hist(residuals(model5), breaks = 50)\n",
    "plot(fitted(model5), residuals(model5))\n",
    "\n",
    "plot(emms_condition) +\n",
    "    labs(\n",
    "        y = \"Condition\",\n",
    "        x = \"Travel Distance EMM [mm]\",\n",
    "    ) +\n",
    "    #scale_x_continuous(limits = c(-0.7, 0.7)) +\n",
    "    theme_bw() +\n",
    "    theme(\n",
    "        text = element_text(size = 20),\n",
    "        panel.grid.major = element_line(color = \"grey\", linetype = \"dashed\"),\n",
    "        panel.grid.minor = element_blank(),\n",
    "        panel.border = element_blank(),\n",
    "        axis.line = element_line(color = \"black\"),\n",
    "        aspect.ratio = 1\n",
    "    )"
   ]
  },
  {
   "cell_type": "markdown",
   "id": "c6457025",
   "metadata": {},
   "source": [
    "## Model 6: Travel time"
   ]
  },
  {
   "cell_type": "code",
   "execution_count": null,
   "id": "bf553694",
   "metadata": {
    "vscode": {
     "languageId": "r"
    }
   },
   "outputs": [],
   "source": [
    "# better residuals with log\n",
    "data = data_visits_finished\n",
    "model6 <- lmer(log(travel_time) ~ cond + z_num_transitions + z_session_number_oncond + z_age + z_performance + z_deprivation + z_normal_weight +(1 | PID), data = data_visits)\n",
    "summary(model6)\n",
    "\n",
    "emms_condition <- emmeans(model6, ~ cond, type = \"response\")\n",
    "pairwise_condition <- contrast(emms_condition, method = 'pairwise', adjust = \"holm\")\n",
    "summary(pairwise_condition)\n",
    "log(summary(pairwise_condition)$ratio)\n",
    "\n",
    "# check for normality\n",
    "par(mfrow=c(1,3), cex=1.5)\n",
    "options(repr.plot.width=20, repr.plot.height=5)\n",
    "qqnorm(residuals(model6))\n",
    "hist(residuals(model6), breaks = 50)\n",
    "plot(fitted(model6), residuals(model6))\n",
    "\n",
    "plot(emms_condition) +\n",
    "    labs(\n",
    "        y = \"Condition\",\n",
    "        x = \"Travel Time EMM [sec]\",\n",
    "    ) +\n",
    "    #scale_x_continuous(limits = c(-0.7, 0.7)) +\n",
    "    theme_bw() +\n",
    "    theme(\n",
    "        text = element_text(size = 20),\n",
    "        panel.grid.major = element_line(color = \"grey\", linetype = \"dashed\"),\n",
    "        panel.grid.minor = element_blank(),\n",
    "        panel.border = element_blank(),\n",
    "        axis.line = element_line(color = \"black\"),\n",
    "        aspect.ratio = 1\n",
    "    )"
   ]
  },
  {
   "cell_type": "markdown",
   "id": "fdc63f58",
   "metadata": {},
   "source": [
    "# 3.3 Cox Regression"
   ]
  },
  {
   "cell_type": "markdown",
   "id": "c9eaa924",
   "metadata": {},
   "source": [
    "Visit length or time on platform can be re-interpreted as latency to leave a platform, i.e. time-to-event, which can then be operationalized as a survival analysis.\n",
    "\n",
    "Ideally, the survival analysis controls for individual differences as rondom intercept and all the other session and animal covariates, see `coxme` below. Since `survfit` can not handle mixed effect, we use model residuals from a linear model as the corrected time to event for the categorical kaplan meier curves. "
   ]
  },
  {
   "cell_type": "markdown",
   "id": "c81165f9",
   "metadata": {},
   "source": [
    "## Stepwise Model Building"
   ]
  },
  {
   "cell_type": "markdown",
   "id": "0d6cff62",
   "metadata": {},
   "source": [
    "Baseline models include individual animal characteristics such as age, performance, deprivation etc, as well as task design covariates infuelncing visit length such as visit order and session number.\n",
    "\n",
    "The second model step includes foraging parameters in the current platform, such as travel distance to the current platform, the number of previous self-visits on the platform, the peck rate, and pecking variability. Variability as RMSSD captures the magnitude of the variability in inter-peck-interval and inter-peck-distances. \n",
    "\n",
    "The final model step includes the cumulative or historical foraging ratio between platforms, i.e. overpecking"
   ]
  },
  {
   "cell_type": "code",
   "execution_count": null,
   "id": "ef47e8e4",
   "metadata": {
    "vscode": {
     "languageId": "r"
    }
   },
   "outputs": [],
   "source": [
    "# feature correlation\n",
    "data = data_visits\n",
    "cor(data[c(\"total_visit_length\", \"gmz_num_transitions\", \"gmz_num_self_transitions\", \"gmz_travel_dist\", \"z_travel_time\", \"z_total_peck_rate\", \"z_total_head_disp\", \"z_total_IPD_entropy\", \"z_total_IPI_entropy\", \"z_total_IPI_rmssd\", \"z_total_IPD_rmssd\", \"z_overpeck_ratio\")])\n",
    "\n",
    "# peck_rate and IPI_entropy seem to cancel each other out, on themselves they have no effect, but together they show strong opposite effects\n"
   ]
  },
  {
   "cell_type": "code",
   "execution_count": null,
   "id": "ff4ae4de",
   "metadata": {
    "vscode": {
     "languageId": "r"
    }
   },
   "outputs": [],
   "source": [
    "# full dataset, no split\n",
    "data = data_visits\n",
    "\n",
    "# base model\n",
    "foraging_cox_0 <- coxme(Surv(total_visit_length, status) ~ 1 + (1 | PID), data)\n",
    "\n",
    "# covariates\n",
    "foraging_cox_1 <- coxme(Surv(total_visit_length, status) ~ 1 + cond + gmz_travel_dist + gmz_num_transitions + z_session_number_oncond + z_age + z_performance + z_deprivation + z_normal_weight + (1 | PID), data)\n",
    "\n",
    "# foraging parameters\n",
    "foraging_cox_2 <- coxme(Surv(total_visit_length, status) ~ 1 + cond + gmz_travel_dist + gmz_num_transitions + z_session_number_oncond + z_age + z_performance + z_deprivation + z_normal_weight + gmz_num_self_transitions + z_total_peck_rate + z_total_IPI_rmssd + z_total_IPD_rmssd + (1 | PID), data)\n",
    "\n",
    "# cumulative foraging parameters\n",
    "foraging_cox_3 <- coxme(Surv(total_visit_length, status) ~ 1 + cond + gmz_travel_dist + gmz_num_transitions + z_session_number_oncond + z_age + z_performance + z_deprivation + z_normal_weight + gmz_num_self_transitions + z_total_peck_rate + z_total_IPI_rmssd + z_total_IPD_rmssd + z_overpeck_ratio + (1 | PID), data)\n"
   ]
  },
  {
   "cell_type": "code",
   "execution_count": null,
   "id": "871dd52b",
   "metadata": {
    "vscode": {
     "languageId": "r"
    }
   },
   "outputs": [],
   "source": [
    "# stepwise cox regression\n",
    "anova(foraging_cox_0, foraging_cox_1, foraging_cox_2, foraging_cox_3)\n",
    "# Lower AIC values indicate a better model. It balances model fit and complexity, penalizing models with more parameters.\n",
    "aic_values <- AIC(foraging_cox_0, foraging_cox_1, foraging_cox_2, foraging_cox_3)\n",
    "aic_values$Delta_AIC <- c(0,diff(aic_values$AIC))\n",
    "print(aic_values)\n",
    "\n",
    "# Lower BIC values indicate a better model. BIC imposes a stronger penalty for models with more parameters compared to AIC, making it more conservative.\n",
    "bic_values <- BIC(foraging_cox_0, foraging_cox_1, foraging_cox_2, foraging_cox_3)\n",
    "bic_values$Delta_BIC <- c(0,diff(bic_values$BIC))\n",
    "print(bic_values)\n",
    "\n",
    "# check multicollinearity of models\n",
    "vif(foraging_cox_3)\n"
   ]
  },
  {
   "cell_type": "markdown",
   "id": "35df8bee",
   "metadata": {},
   "source": [
    "## Model 7: Cox Model"
   ]
  },
  {
   "cell_type": "code",
   "execution_count": null,
   "id": "1e432f78",
   "metadata": {
    "vscode": {
     "languageId": "r"
    }
   },
   "outputs": [],
   "source": [
    "# model results\n",
    "summary(foraging_cox_3)\n",
    "\n",
    "# get 95% CI for HR\n",
    "exp(confint(foraging_cox_3))\n",
    "\n",
    "# main effects\n",
    "Anova(foraging_cox_3, type = \"III\") \n",
    "\n",
    "# post hoc tests for condition\n",
    "emm_condition <- emmeans(foraging_cox_3, ~ cond, type = \"link\")\n",
    "pairwise_condition <- contrast(emm_condition, method = 'pairwise', adjust = \"holm\")\n",
    "summary(pairwise_condition)\n",
    "\n",
    "plot(emm_condition) +\n",
    "    labs(\n",
    "        y = \"Platform\",\n",
    "        x = \"Hazard EMM\",\n",
    "        color = \"Comparison\"\n",
    "    ) +\n",
    "    theme_bw() +\n",
    "    theme(\n",
    "        text = element_text(size = 20),\n",
    "        panel.grid.major = element_line(color = \"grey\", linetype = \"dashed\"),\n",
    "        panel.grid.minor = element_blank(),\n",
    "        panel.border = element_blank(),\n",
    "        axis.line = element_line(color = \"black\"),\n",
    "        aspect.ratio = 1\n",
    "    )\n",
    "\n",
    "# save plot\n",
    "ggsave(\"C:/Users/hidalggc/sciebo/Workspace/ForagingPlatforms/figure4C.png\", height = 100, units = \"mm\", dpi = 600)\n"
   ]
  },
  {
   "cell_type": "markdown",
   "id": "8e1783db",
   "metadata": {},
   "source": [
    "## Visualization"
   ]
  },
  {
   "cell_type": "code",
   "execution_count": null,
   "id": "19981eaa",
   "metadata": {
    "vscode": {
     "languageId": "r"
    }
   },
   "outputs": [],
   "source": [
    "# generate model predictions from foraging_cox_3 for\n",
    "# condition\n",
    "\n",
    "# travel distance cutoff\n",
    "# num transitions cutoff\n",
    "# peck rate cutoff\n",
    "# overpecking cutoff\n"
   ]
  },
  {
   "cell_type": "code",
   "execution_count": null,
   "id": "01d76d3d",
   "metadata": {
    "vscode": {
     "languageId": "r"
    }
   },
   "outputs": [],
   "source": [
    "# Create residual-corrected time to event\n",
    "data = data_visits\n",
    "model_residuals <- lm(log(total_visit_length) ~ 1 + PID + gmz_travel_dist + gmz_num_transitions + gmz_num_self_transitions + z_session_number_oncond + z_age + z_normal_weight + z_performance + z_deprivation + z_total_peck_rate + z_total_IPI_rmssd + z_total_IPD_rmssd + overpeck_ratio, data)\n",
    "\n",
    "# Add residuals to predicted values to ensure positive times\n",
    "data$times_res <- exp(residuals(model_residuals) - min(residuals(model_residuals)))\n",
    "data$times_pred <- predict(model_residuals)\n",
    "# Plot hazard curves for each condition\n",
    "km_fit_adjusted <- survfit(Surv(times_res, status) ~ cond, data = subset(data, times_res < 120))\n",
    "\n",
    "# Convert survfit object to a dataframe for ggplot, including confidence intervals\n",
    "km_data <- data.frame(\n",
    "  time = km_fit_adjusted$time,\n",
    "  diff = c(NA, diff(km_fit_adjusted$cumhaz) / diff(km_fit_adjusted$time)), # Calculate the hazard rate as the change in cumulative hazard over time\n",
    "  surv = km_fit_adjusted$surv,\n",
    "  lower = km_fit_adjusted$lower,\n",
    "  upper = km_fit_adjusted$upper,\n",
    "  hazard = km_fit_adjusted$cumhaz,\n",
    "  hazard_lower = pmax(0, km_fit_adjusted$cumhaz - 1.96 * km_fit_adjusted$std.chaz),\n",
    "  hazard_upper = km_fit_adjusted$cumhaz + 1.96 * km_fit_adjusted$std.chaz,\n",
    "  strata = rep(levels(data$cond), km_fit_adjusted$strata)\n",
    ")\n",
    "\n",
    "# Normalize and smooth the instantaneous hazard\n",
    "km_data$diff_normalized <- NA\n",
    "for (stratum in unique(km_data$strata)) {\n",
    "  subset_data <- km_data[km_data$strata == stratum, ]\n",
    "  # Smooth the instantaneous hazard using LOESS\n",
    "  smoothed_diff <- loess(diff ~ time, data = subset_data, span = 0.2)$fitted\n",
    "  # Normalize the smoothed instantaneous hazard\n",
    "  max_smoothed_diff <- max(smoothed_diff, na.rm = TRUE)\n",
    "  km_data$diff_normalized[km_data$strata == stratum] <- smoothed_diff / max_smoothed_diff\n",
    "}\n",
    "\n",
    "p1 <- ggplot(km_data, aes(x = time, y = surv, color = strata, fill = strata)) +\n",
    "  geom_line(linewidth = 2) +\n",
    "  geom_ribbon(aes(ymin = lower, ymax = upper), alpha = 0.2, color = NA) +\n",
    "  scale_color_manual(values = c(\"#E41A1C\", \"#377EB8\", \"#9981cf\", \"#4DAF4A\")) +\n",
    "  scale_fill_manual(values = c(\"#E41A1C\", \"#377EB8\", \"#9981cf\", \"#4DAF4A\")) +\n",
    "  labs(\n",
    "    x = \"Time on platform (sec)\",\n",
    "    y = \"Survival probability\",\n",
    "    color = \"Platform\",\n",
    "    fill = \"Platform\"\n",
    "  ) +\n",
    "  theme_classic() +\n",
    "  theme(\n",
    "    text = element_text(size = 20),\n",
    "    legend.position = \"right\",\n",
    "    legend.justification = c(1, 1)\n",
    "  )\n",
    "p2 <- ggplot(km_data, aes(x = time, y = hazard, color = strata, fill = strata)) +\n",
    "  geom_line(linewidth = 2) +\n",
    "  geom_ribbon(aes(ymin = hazard_lower, ymax = hazard_upper), alpha = 0.2, color = NA) +\n",
    "  scale_color_manual(values = c(\"#E41A1C\", \"#377EB8\", \"#9981cf\", \"#4DAF4A\")) +\n",
    "  scale_fill_manual(values = c(\"#E41A1C\", \"#377EB8\", \"#9981cf\", \"#4DAF4A\")) +\n",
    "  labs(\n",
    "    x = \"Time on platform (sec)\",\n",
    "    y = \"Cumulative hazard\",\n",
    "    color = \"Platform\",\n",
    "    fill = \"Platform\"\n",
    "  ) +\n",
    "  theme_classic() +\n",
    "  theme(\n",
    "    text = element_text(size = 20),\n",
    "    legend.position = \"right\",\n",
    "    legend.justification = c(1, 1)\n",
    "  )\n",
    "\n",
    "\n",
    "# Combine the two plots into one figure and save it\n",
    "combined_plot <- grid.arrange(p1, p2, ncol = 2)\n",
    "\n",
    "# Save the combined plot\n",
    "ggsave(\"C:/Users/hidalggc/sciebo/Workspace/ForagingPlatforms/figure4A.png\", plot = p1, height = 120, units = \"mm\", dpi = 600)\n",
    "ggsave(\"C:/Users/hidalggc/sciebo/Workspace/ForagingPlatforms/figure4B.png\", plot = p2, height = 120, units = \"mm\", dpi = 600)\n"
   ]
  },
  {
   "cell_type": "markdown",
   "id": "d36bb1cc",
   "metadata": {},
   "source": [
    "## DEPRECATED: Split Dataset"
   ]
  },
  {
   "cell_type": "markdown",
   "id": "42fe67b5",
   "metadata": {},
   "source": [
    "the 0-75 condition has way fever number of visits than the 0-0 condition, and the 75-75 condition (this effect is already captured in transition differences). To balance the dataset, considering only the `Nth` first visits across all conditions would help interpreting the model parameters such as number of previous visits/transitions. Further, we have the assumption that the last visits are not representaive for foraging, but rather exploration or rest."
   ]
  },
  {
   "cell_type": "code",
   "execution_count": null,
   "id": "14b44f9f",
   "metadata": {
    "vscode": {
     "languageId": "r"
    }
   },
   "outputs": [],
   "source": [
    "ggplot(data_visits, aes(x = num_transitions, fill = condition)) +\n",
    "    geom_histogram(binwidth = 1, alpha = 0.9, position = \"dodge\") +\n",
    "    facet_wrap(~condition, scales = \"free_y\", ncol = 1) +\n",
    "    labs(\n",
    "        title = \"Number of Transitions by Condition\",\n",
    "        x = \"Number of Transitions\",\n",
    "        y = \"Frequency\",\n",
    "        fill = \"Condition\"\n",
    "    ) +\n",
    "    # add quantiles for each condition\n",
    "    geom_vline(data = data_visits %>% group_by(condition) %>% summarise(median = quantile(num_transitions, probs = 0.5)), \n",
    "               aes(xintercept = median), linetype = \"solid\", color = \"black\", size = 1) +\n",
    "    geom_vline(data = data_visits %>% group_by(condition) %>% summarise(q75 = quantile(num_transitions, probs = 0.75)), \n",
    "               aes(xintercept = q75), linetype = \"dashed\", color = \"black\", size = 1) +\n",
    "    geom_vline(data = data_visits %>% group_by(condition) %>% summarise(q25 = quantile(num_transitions, probs = 0.25)), \n",
    "               aes(xintercept = q25), linetype = \"dashed\", color = \"black\", size = 1) +\n",
    "    scale_fill_brewer(palette = \"Set1\") +\n",
    "    scale_x_continuous(breaks = seq(0, max(data_visits$num_transitions, na.rm = TRUE), by = 5)) +\n",
    "    theme_classic() +\n",
    "    theme(text = element_text(size = 15))"
   ]
  },
  {
   "cell_type": "code",
   "execution_count": null,
   "id": "200d03f2",
   "metadata": {
    "vscode": {
     "languageId": "r"
    }
   },
   "outputs": [],
   "source": [
    "# Store the result in a variable\n",
    "quantiles <- data.frame(N = integer(), cond_0_0 = numeric(), cond_0_75 = numeric(), cond_75_75 = numeric())\n",
    "\n",
    "for (N in 1:20) {\n",
    "    cond_0_0 <- prop.table(table(data_visits$num_transitions < N, data_visits$condition), margin = 2)[\"TRUE\", \"0-0\"]\n",
    "    cond_0_75 <- prop.table(table(data_visits$num_transitions < N, data_visits$condition), margin = 2)[\"TRUE\", \"0-75\"]\n",
    "    cond_75_75 <- prop.table(table(data_visits$num_transitions < N, data_visits$condition), margin = 2)[\"TRUE\", \"75-75\"]\n",
    "    quantiles <- rbind(quantiles, data.frame(N = N, cond_0_0 = cond_0_0, cond_0_75 = cond_0_75, cond_75_75 = cond_75_75))\n",
    "}\n",
    "\n",
    "proportion <- data.frame(N = integer(), cond_0_0 = numeric(), cond_0_75 = numeric(), cond_75_75 = numeric())\n",
    "\n",
    "for (N in 1:20) {\n",
    "    cond_0_0 <- prop.table(table(data_visits$num_transitions < N, data_visits$condition), margin = 1)[\"TRUE\", \"0-0\"]\n",
    "    cond_0_75 <- prop.table(table(data_visits$num_transitions < N, data_visits$condition), margin = 1)[\"TRUE\", \"0-75\"]\n",
    "    cond_75_75 <- prop.table(table(data_visits$num_transitions < N, data_visits$condition), margin = 1)[\"TRUE\", \"75-75\"]\n",
    "    proportion <- rbind(proportion, data.frame(N = N, cond_0_0 = cond_0_0, cond_0_75 = cond_0_75, cond_75_75 = cond_75_75))\n",
    "}"
   ]
  },
  {
   "cell_type": "code",
   "execution_count": null,
   "id": "80a6eb21",
   "metadata": {
    "vscode": {
     "languageId": "r"
    }
   },
   "outputs": [],
   "source": [
    "k = 8\n",
    "# plot quantiles\n",
    "p1 <- ggplot(quantiles, aes(x = N)) +\n",
    "    geom_line(aes(y = cond_0_0, color = \"0-0\"), size = 1) +\n",
    "    geom_line(aes(y = cond_0_75, color = \"0-75\"), size = 1) +\n",
    "    geom_line(aes(y = cond_75_75, color = \"75-75\"), size = 1) +\n",
    "    geom_hline(yintercept = 0.5, linetype = \"dashed\", color = \"black\") +\n",
    "    geom_vline(xintercept = k, linetype = \"dashed\", color = \"black\") +\n",
    "    labs(\n",
    "        x = \"Number of Visits\",\n",
    "        y = \"Condition Percentile\",\n",
    "        color = \"Condition\"\n",
    "    ) +\n",
    "    scale_color_brewer(palette = \"Set1\") +\n",
    "    theme_classic() +\n",
    "    theme(text = element_text(size = 15))\n",
    "\n",
    "# plot proportions\n",
    "p2 <- ggplot(proportion, aes(x = N)) +\n",
    "    geom_line(aes(y = cond_0_0, color = \"0-0\"), size = 1) +\n",
    "    geom_line(aes(y = cond_0_75, color = \"0-75\"), size = 1) +\n",
    "    geom_line(aes(y = cond_75_75, color = \"75-75\"), size = 1) +\n",
    "    geom_hline(yintercept = 0.5, linetype = \"dashed\", color = \"black\") +\n",
    "    geom_hline(yintercept = 0.33, linetype = \"dashed\", color = \"black\") +\n",
    "    geom_hline(yintercept = 0, linetype = \"dashed\", color = \"black\") +\n",
    "    geom_vline(xintercept = k, linetype = \"dashed\", color = \"black\") +\n",
    "    labs(\n",
    "        x = \"Number of Visits\",\n",
    "        y = \"Sample Proportion\",\n",
    "        color = \"Condition\"\n",
    "    ) +\n",
    "    scale_color_brewer(palette = \"Set1\") +\n",
    "    theme_classic() +\n",
    "    theme(text = element_text(size = 15))\n",
    "\n",
    "# combine plots side by side\n",
    "grid.arrange(p1, p2, ncol = 2)"
   ]
  },
  {
   "cell_type": "markdown",
   "id": "d4b8e67a",
   "metadata": {},
   "source": [
    "Use the first 8 visits of each condition, this would keep the proportion of visits per condition relatively stable, even if not equal. A split of `N <= 8` would represent more than half the visits in 0-75, but less than the first half visits in conditions 0-0 and 75-75. Furthermore, note that a few pigeons have less than 8 total visits, and would have no \"late visits\" without duplicates."
   ]
  },
  {
   "cell_type": "markdown",
   "id": "032e0d38",
   "metadata": {},
   "source": [
    "Considering only real transitions without self-transitions or censored data, pigeons perform between 2 and 80 transitions per session, and significantly less in the 0-75 condition. To split the dataset, we could either\n",
    "- consider the overall median, but this would over- and under-represent the 0-75 condition in the first and last split\n",
    "- consider the condition median, but this would generate an unbalanced number of visits for each condition proportional to the number of total transitions\n",
    "- use the lowest median of the"
   ]
  },
  {
   "cell_type": "markdown",
   "id": "b5878b6f",
   "metadata": {},
   "source": [
    "## Sanity Checks"
   ]
  },
  {
   "cell_type": "markdown",
   "id": "1e32f861",
   "metadata": {},
   "source": [
    "### censored data excluded in model"
   ]
  },
  {
   "cell_type": "code",
   "execution_count": null,
   "id": "0e20642b",
   "metadata": {
    "vscode": {
     "languageId": "r"
    }
   },
   "outputs": [],
   "source": [
    "# compare cox without consored data"
   ]
  },
  {
   "cell_type": "markdown",
   "id": "f2bb8a4e",
   "metadata": {},
   "source": [
    "### Direction of effects of single parameters"
   ]
  },
  {
   "cell_type": "code",
   "execution_count": null,
   "id": "8bb10fbd",
   "metadata": {
    "vscode": {
     "languageId": "r"
    }
   },
   "outputs": [],
   "source": [
    "# Check single effects for first visits\n",
    "\n",
    "# travel distance has same effect as in final model\n",
    "#foraging_first_cox_4.1 <- coxme(Surv(visit_length, status) ~ cond + gmz_num_transitions + z_session_number_oncond + z_age + z_performance + z_deprivation + z_normal_weight + z_travel_dist + (1 | PID), data = first_visits)\n",
    "# peck rate has same non-significant effect\n",
    "#foraging_first_cox_4.2 <- coxme(Surv(visit_length, status) ~ cond + gmz_num_transitions + z_session_number_oncond + z_age + z_performance + z_deprivation + z_normal_weight + z_peck_rate + (1 | PID), data = first_visits)\n",
    "# IPI_rmssd has same strong negative effect\n",
    "#foraging_first_cox_4.3 <- coxme(Surv(visit_length, status) ~ cond + gmz_num_transitions + z_session_number_oncond + z_age + z_performance + z_deprivation + z_normal_weight + z_IPI_rmssd + (1 | PID), data = first_visits)\n",
    "# IPD_rmssd changes direction on its own, HR = 0.81, z = -4.51, p < .001\n",
    "#foraging_first_cox_4.4 <- coxme(Surv(visit_length, status) ~ cond + gmz_num_transitions + z_session_number_oncond + z_age + z_performance + z_deprivation + z_normal_weight + z_IPD_rmssd + (1 | PID), data = first_visits)\n",
    "# IPI_entropy has exact same effect as in final model\n",
    "#foraging_first_cox_4.5 <- coxme(Surv(visit_length, status) ~ cond + gmz_num_transitions + z_session_number_oncond + z_age + z_performance + z_deprivation + z_normal_weight + z_IPI_entropy + (1 | PID), data = first_visits)\n",
    "# IPD_entropy has same negative effect as in final model\n",
    "#foraging_first_cox_4.6 <- coxme(Surv(visit_length, status) ~ cond + gmz_num_transitions + z_session_number_oncond + z_age + z_performance + z_deprivation + z_normal_weight + z_IPD_entropy + (1 | PID), data = first_visits)\n",
    "# overpeck ratio has same negative effect as in final model\n",
    "#foraging_first_cox_4.7 <- coxme(Surv(visit_length, status) ~ cond + gmz_num_transitions + z_session_number_oncond + z_age + z_performance + z_deprivation + z_normal_weight + overpeck_ratio + (1 | PID), data = first_visits)\n",
    "\n",
    "#summary(foraging_first_cox_4.7)"
   ]
  },
  {
   "cell_type": "markdown",
   "id": "f64666be",
   "metadata": {},
   "source": [
    "# 3.5 Foraging Parameters"
   ]
  },
  {
   "cell_type": "code",
   "execution_count": null,
   "id": "4a0ac299",
   "metadata": {
    "vscode": {
     "languageId": "r"
    }
   },
   "outputs": [],
   "source": [
    "# filter real visits data without censoring\n",
    "data = data_visits_finished\n",
    "\n",
    "# Transformation of non-linear variables\n",
    "par(mfrow=c(1,3), cex=1.5)\n",
    "options(repr.plot.width=20, repr.plot.height=5)\n",
    "hist(data$total_visit_length, breaks = 50)\n",
    "hist(data$total_peck_count, breaks = 50)\n",
    "hist(data$total_peck_rate, breaks = 50)"
   ]
  },
  {
   "cell_type": "markdown",
   "id": "83bdf583",
   "metadata": {},
   "source": [
    "## Extra: Visit length"
   ]
  },
  {
   "cell_type": "code",
   "execution_count": null,
   "id": "d722edd3",
   "metadata": {
    "vscode": {
     "languageId": "r"
    }
   },
   "outputs": [],
   "source": [
    "# only real visits \n",
    "data = data_visits_finished\n",
    "# differences in visit length by visit order and interaction with condition\n",
    "foraging_model2 <- lmer(log(total_visit_length) ~ \n",
    "                cond + z_num_transitions + z_session_number_oncond + \n",
    "                z_age + z_performance + z_deprivation + z_normal_weight +\n",
    "                (1 | PID) , data)\n",
    "\n",
    "# model results\n",
    "summary(foraging_model2)\n",
    "\n",
    "# NOTE logarithmic transformation of visit length\n",
    "# check for normality\n",
    "par(mfrow=c(1,3), cex=1.5)\n",
    "options(repr.plot.width=20, repr.plot.height=5)\n",
    "qqnorm(residuals(foraging_model2))\n",
    "hist(residuals(foraging_model2), breaks = 50)\n",
    "plot(fitted(foraging_model2), residuals(foraging_model2))\n",
    "\n",
    "# post hoc tests for condition\n",
    "emm_condition <- emmeans(foraging_model2, ~ cond)\n",
    "pairwise_condition <- contrast(emm_condition, method = 'pairwise', adjust = \"holm\")\n",
    "summary(pairwise_condition)\n",
    "\n",
    "plot(emm_condition) +\n",
    "    labs(\n",
    "        y = \"Condition\",\n",
    "        x = \"Estimated Marginal Means (visit length)\",\n",
    "        color = \"Comparison\"\n",
    "    ) +\n",
    "    theme_bw() +\n",
    "    theme(\n",
    "        text = element_text(size = 20),\n",
    "        panel.grid.major = element_line(color = \"grey\", linetype = \"dashed\"),\n",
    "        panel.grid.minor = element_blank(),\n",
    "        panel.border = element_blank(),\n",
    "        axis.line = element_line(color = \"black\"),\n",
    "        aspect.ratio = 1\n",
    "    )\n"
   ]
  },
  {
   "cell_type": "markdown",
   "id": "d3e2721a",
   "metadata": {},
   "source": [
    "## Extra: Peck Count"
   ]
  },
  {
   "cell_type": "code",
   "execution_count": null,
   "id": "94f79920",
   "metadata": {
    "vscode": {
     "languageId": "r"
    }
   },
   "outputs": [],
   "source": [
    "# median of overall peck count per session\n",
    "abs_pecks = data$cum_peck_count + data$alt_cum_peck_count\n",
    "# get the max per session * PID * condition\n",
    "data$abs_pecks <- abs_pecks\n",
    "data %>%\n",
    "  group_by(session_number_ontask, PID, condition) %>%\n",
    "  # get max peck count per session\n",
    "  summarise(max_pecks = max(abs_pecks)) -> max_pecks_per_session\n",
    "\n",
    "# get median \n",
    "max_pecks_per_session %>%\n",
    "  group_by(condition) %>%\n",
    "  summarise(median = quantile(max_pecks, probs = 0.5), IQR = quantile(max_pecks, probs = 0.75)-quantile(max_pecks, probs = 0.25))\n"
   ]
  },
  {
   "cell_type": "code",
   "execution_count": null,
   "id": "f01bf9e9",
   "metadata": {
    "vscode": {
     "languageId": "r"
    }
   },
   "outputs": [],
   "source": [
    "# correlation between peck count and visit length\n",
    "cor.test(data$total_visit_length, data$total_peck_count,method = \"pearson\")"
   ]
  },
  {
   "cell_type": "markdown",
   "id": "53430b77",
   "metadata": {},
   "source": [
    "## Model 5: Peck Rate"
   ]
  },
  {
   "cell_type": "code",
   "execution_count": null,
   "id": "fd26d5d9",
   "metadata": {
    "vscode": {
     "languageId": "r"
    }
   },
   "outputs": [],
   "source": [
    "# why not peckrate instead of peck count?\n",
    "data = data_visits_finished\n",
    "foraging_model1 <- lmer(total_peck_rate ~ cond + gmz_num_transitions + z_session_number_oncond + z_age + z_performance + z_deprivation + z_normal_weight +(1 | PID), data)\n",
    "summary(foraging_model1)\n",
    "\n",
    "emms_condition <- emmeans(foraging_model1, ~ cond, type = \"response\")\n",
    "pairwise_condition <- contrast(emms_condition, method = 'pairwise', adjust = \"holm\")\n",
    "summary(pairwise_condition)\n",
    "\n",
    "# check for normality\n",
    "par(mfrow=c(1,3), cex=1.5)\n",
    "options(repr.plot.width=20, repr.plot.height=5)\n",
    "qqnorm(residuals(foraging_model1))\n",
    "hist(residuals(foraging_model1), breaks = 50)\n",
    "plot(fitted(foraging_model1), residuals(foraging_model1))\n",
    "\n",
    "plot(emms_condition) +\n",
    "    labs(\n",
    "        y = \"Platform\",\n",
    "        x = \"Peck-rate EMM [pecks/sec]\",\n",
    "    ) +\n",
    "    scale_x_continuous(limits = c(0, NA), labels = scales::label_number(scale = 1)) +\n",
    "    theme_bw() +\n",
    "    theme(\n",
    "        text = element_text(size = 20),\n",
    "        panel.grid.major = element_line(color = \"grey\", linetype = \"dashed\"),\n",
    "        panel.grid.minor = element_blank(),\n",
    "        panel.border = element_blank(),\n",
    "        axis.line = element_line(color = \"black\"),\n",
    "        aspect.ratio = 1\n",
    "    )\n",
    "ggsave(\"C:/Users/hidalggc/sciebo/Workspace/ForagingPlatforms/figure4D.png\", height = 100, units = \"mm\", dpi = 600)\n"
   ]
  },
  {
   "cell_type": "markdown",
   "id": "664ee1ed",
   "metadata": {},
   "source": [
    "## Model 6: IPI RMSSD"
   ]
  },
  {
   "cell_type": "code",
   "execution_count": null,
   "id": "5e0f9a13",
   "metadata": {
    "vscode": {
     "languageId": "r"
    }
   },
   "outputs": [],
   "source": [
    "# inter peck interval rmssd with exponential distribution (exclude zeros)\n",
    "data <- data_visits_finished\n",
    "foraging_model2 <- lmer(total_IPI_rmssd ~ cond + gmz_num_transitions + z_session_number_oncond + z_age + z_performance + z_deprivation + z_normal_weight +(1 | PID), data)\n",
    "\n",
    "summary(foraging_model2)\n",
    "\n",
    "emms_condition <- emmeans(foraging_model2, ~ cond, type = \"response\")\n",
    "pairwise_condition <- contrast(emms_condition, method = 'pairwise', adjust = \"holm\")\n",
    "summary(pairwise_condition)\n",
    "\n",
    "# check for normality\n",
    "par(mfrow=c(1,3), cex=1.5)\n",
    "options(repr.plot.width=20, repr.plot.height=5)\n",
    "qqnorm(residuals(foraging_model2))\n",
    "hist(residuals(foraging_model2), breaks = 50)\n",
    "plot(fitted(foraging_model2), residuals(foraging_model2))\n",
    "\n",
    "plot(emms_condition) +\n",
    "    labs(\n",
    "        y = \"Platform\",\n",
    "        x = \"IPI RMSSD EMM [sec]\",\n",
    "    ) +\n",
    "    scale_x_continuous(limits = c(0, NA), labels = scales::label_number(scale = 1)) +\n",
    "    theme_bw() +\n",
    "    theme(\n",
    "        text = element_text(size = 20),\n",
    "        panel.grid.major = element_line(color = \"grey\", linetype = \"dashed\"),\n",
    "        panel.grid.minor = element_blank(),\n",
    "        panel.border = element_blank(),\n",
    "        axis.line = element_line(color = \"black\"),\n",
    "        aspect.ratio = 1\n",
    "    )\n",
    "\n",
    "ggsave(\"C:/Users/hidalggc/sciebo/Workspace/ForagingPlatforms/figure4E.png\", height = 100, units = \"mm\", dpi = 600)\n"
   ]
  },
  {
   "cell_type": "markdown",
   "id": "340e67ea",
   "metadata": {},
   "source": [
    "## Model 7: IPD RMSSD"
   ]
  },
  {
   "cell_type": "code",
   "execution_count": null,
   "id": "adc9bd46",
   "metadata": {
    "vscode": {
     "languageId": "r"
    }
   },
   "outputs": [],
   "source": [
    "# inter peck distance RMSSD\n",
    "data = data_visits_finished\n",
    "foraging_model3 <- lmer(total_IPD_rmssd ~ cond + gmz_num_transitions + z_session_number_oncond + z_age + z_performance + z_deprivation + z_normal_weight +(1 | PID), data)\n",
    "summary(foraging_model3)\n",
    "\n",
    "emms_condition <- emmeans(foraging_model3, ~ cond, type = \"response\")\n",
    "pairwise_condition <- contrast(emms_condition, method = 'pairwise', adjust = \"holm\")\n",
    "summary(pairwise_condition)\n",
    "\n",
    "# check for normality\n",
    "par(mfrow=c(1,3), cex=1.5)\n",
    "options(repr.plot.width=20, repr.plot.height=5)\n",
    "qqnorm((residuals(foraging_model3)))\n",
    "hist(scale(residuals(foraging_model3)), breaks = 50)\n",
    "plot(scale(fitted(foraging_model3)), scale(residuals(foraging_model3)))\n",
    "\n",
    "plot(emms_condition) +\n",
    "    labs(\n",
    "        y = \"Platform\",\n",
    "        x = \"IPD RMSSD EMM [mm]\",\n",
    "    ) +\n",
    "    scale_x_continuous(limits = c(0, NA), labels = scales::label_number(scale = 1)) +\n",
    "    theme_bw() +\n",
    "    theme(\n",
    "        text = element_text(size = 20),\n",
    "        panel.grid.major = element_line(color = \"grey\", linetype = \"dashed\"),\n",
    "        panel.grid.minor = element_blank(),\n",
    "        panel.border = element_blank(),\n",
    "        axis.line = element_line(color = \"black\"),\n",
    "        aspect.ratio = 1\n",
    "    )\n",
    "ggsave(\"C:/Users/hidalggc/sciebo/Workspace/ForagingPlatforms/figure4F.png\", height = 100, units = \"mm\", dpi = 600)\n"
   ]
  },
  {
   "cell_type": "markdown",
   "id": "714928f0",
   "metadata": {},
   "source": [
    "## Model 8: Distance covered"
   ]
  },
  {
   "cell_type": "code",
   "execution_count": null,
   "id": "42804c02",
   "metadata": {
    "vscode": {
     "languageId": "r"
    }
   },
   "outputs": [],
   "source": [
    "cor.test(data$total_visit_length, data$total_head_disp,method = \"pearson\")"
   ]
  },
  {
   "cell_type": "code",
   "execution_count": null,
   "id": "6cf9e5a6",
   "metadata": {
    "vscode": {
     "languageId": "r"
    }
   },
   "outputs": [],
   "source": [
    "# head distance covered\n",
    "# better residuals with log\n",
    "data = data_visits_finished\n",
    "foraging_model4 <- lmer(log(total_head_disp) ~ cond + gmz_num_transitions + z_session_number_oncond + z_age + z_performance + z_deprivation + z_normal_weight +(1 | PID), data)\n",
    "summary(foraging_model4)\n",
    "\n",
    "emms_condition <- emmeans(foraging_model4, ~ cond, type = \"link\")\n",
    "#emms_condition <- emmeans(foraging_model4, ~ cond, type = \"response\") # for plot\n",
    "pairwise_condition <- contrast(emms_condition, method = 'pairwise', adjust = \"holm\")\n",
    "summary(pairwise_condition)\n",
    "\n",
    "# check for normality\n",
    "par(mfrow=c(1,3), cex=1.5)\n",
    "options(repr.plot.width=20, repr.plot.height=5)\n",
    "qqnorm(residuals(foraging_model4))\n",
    "hist(residuals(foraging_model4), breaks = 50)\n",
    "plot(fitted(foraging_model4), residuals(foraging_model4))\n",
    "\n",
    "plot(emms_condition) +\n",
    "    labs(\n",
    "        y = \"Platform\",\n",
    "        x = \"Area Covered EMM [m]\",\n",
    "    ) +\n",
    "    #scale_x_continuous(limits = c(0, NA), labels = scales::label_number(scale = 0.001)) +\n",
    "    theme_bw() +\n",
    "    theme(\n",
    "        text = element_text(size = 20),\n",
    "        panel.grid.major = element_line(color = \"grey\", linetype = \"dashed\"),\n",
    "        panel.grid.minor = element_blank(),\n",
    "        panel.border = element_blank(),\n",
    "        axis.line = element_line(color = \"black\"),\n",
    "        aspect.ratio = 1\n",
    "    )\n",
    "\n",
    "ggsave(\"C:/Users/hidalggc/sciebo/Workspace/ForagingPlatforms/figure4G.png\", height = 100, units = \"mm\", dpi = 600)\n"
   ]
  },
  {
   "cell_type": "markdown",
   "id": "95917c14",
   "metadata": {},
   "source": [
    "## Model 12: Overpeck ratio"
   ]
  },
  {
   "cell_type": "markdown",
   "id": "f55792da",
   "metadata": {},
   "source": [
    "What is the difference between the overpeck ratio and the comparison of the marginal value to the habitat average?"
   ]
  },
  {
   "cell_type": "code",
   "execution_count": null,
   "id": "b53fc49e",
   "metadata": {
    "vscode": {
     "languageId": "r"
    }
   },
   "outputs": [],
   "source": [
    "cor.test(data$total_visit_length, data$overpeck_ratio, method = \"pearson\")"
   ]
  },
  {
   "cell_type": "code",
   "execution_count": null,
   "id": "6053f217",
   "metadata": {
    "vscode": {
     "languageId": "r"
    }
   },
   "outputs": [],
   "source": [
    "hist(data$overpeck_ratio, breaks = 50)"
   ]
  },
  {
   "cell_type": "code",
   "execution_count": null,
   "id": "dac6a3de",
   "metadata": {
    "vscode": {
     "languageId": "r"
    }
   },
   "outputs": [],
   "source": [
    "plot(data_visits_finished$total_visit_length, data_visits_finished$overpeck_ratio, xlab = \"Visit length\", ylab = \"Overpecking\", main = \"Overpecking ratio vs. visit length\")"
   ]
  },
  {
   "cell_type": "code",
   "execution_count": null,
   "id": "958235ef",
   "metadata": {
    "vscode": {
     "languageId": "r"
    }
   },
   "outputs": [],
   "source": [
    "data_visits_finished$visit_order_noself"
   ]
  },
  {
   "cell_type": "code",
   "execution_count": null,
   "id": "8a2ac95d",
   "metadata": {
    "vscode": {
     "languageId": "r"
    }
   },
   "outputs": [],
   "source": [
    "# for each pigeon and session, plot overpecking ratio over visits\n",
    "ggplot(data_visits_finished, aes(x = visit_order_noself, y = overpeck_ratio)) +\n",
    "  geom_line(aes(group = interaction(PID, session_number_ontask), color = condition), alpha = 0.5) +\n",
    "\n",
    "  labs(\n",
    "    x = \"Visit number\",\n",
    "    y = \"Overpecking ratio\",\n",
    "    color = \"Condition\"\n",
    "  ) +\n",
    "    theme_classic() + theme(text = element_text(size = 20)) +\n",
    "    theme(aspect.ratio = 1/2)+\n",
    "    scale_color_brewer(palette = \"Set1\")"
   ]
  },
  {
   "cell_type": "code",
   "execution_count": null,
   "id": "17d71f8a",
   "metadata": {
    "vscode": {
     "languageId": "r"
    }
   },
   "outputs": [],
   "source": [
    "# exclude first visit with .5 overpecking\n",
    "data = subset(data_visits_finished, num_transitions > 0)\n",
    "foraging_model5 <- lmer(overpeck_ratio ~ cond + gmz_num_transitions + z_session_number_oncond + z_age + z_performance + z_deprivation + z_normal_weight +(1 | PID), data)\n",
    "summary(foraging_model5)\n",
    "\n",
    "emms_condition <- emmeans(foraging_model5, ~ cond, type = \"response\")\n",
    "pairwise_condition <- contrast(emms_condition, method = 'pairwise', adjust = \"holm\")\n",
    "summary(pairwise_condition)\n",
    "\n",
    "\n",
    "# check for normality\n",
    "par(mfrow=c(1,3), cex=1.5)\n",
    "options(repr.plot.width=20, repr.plot.height=5)\n",
    "qqnorm(residuals(foraging_model5))\n",
    "hist(residuals(foraging_model5), breaks = 50)\n",
    "plot(fitted(foraging_model5), residuals(foraging_model5))\n",
    "\n",
    "plot(emms_condition) +\n",
    "    labs(\n",
    "        y = \"Platform\",\n",
    "        x = \"Overpecking ratio EMM \"\n",
    "    ) +\n",
    "    theme_bw() +\n",
    "    theme(\n",
    "        text = element_text(size = 20),\n",
    "        panel.grid.major = element_line(color = \"grey\", linetype = \"dashed\"),\n",
    "        panel.grid.minor = element_blank(),\n",
    "        panel.border = element_blank(),\n",
    "        axis.line = element_line(color = \"black\"),\n",
    "        aspect.ratio = 1\n",
    "    )\n",
    "ggsave(\"C:/Users/hidalggc/sciebo/Workspace/ForagingPlatforms/figure4H.png\", height = 100, units = \"mm\", dpi = 600)\n"
   ]
  }
 ],
 "metadata": {
  "kernelspec": {
   "display_name": "R",
   "language": "R",
   "name": "ir"
  },
  "language_info": {
   "codemirror_mode": "r",
   "file_extension": ".r",
   "mimetype": "text/x-r-source",
   "name": "R",
   "pygments_lexer": "r",
   "version": "4.1.3"
  }
 },
 "nbformat": 4,
 "nbformat_minor": 5
}
